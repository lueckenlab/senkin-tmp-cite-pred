{
 "cells": [
  {
   "cell_type": "markdown",
   "id": "a50fdce8",
   "metadata": {},
   "source": [
    "# CITE-seq prediction for OpenProblems data format\n",
    "\n",
    "In this example, we'll apply the best CITE-seq prediction model to the data format of the [modality prediction task](https://openproblems.bio/benchmarks/predict_modality?version=v1.0.0) in [OpenProblems](https://openproblems.bio/). For a general and a more detailed example, take a look at `example.ipynb`"
   ]
  },
  {
   "cell_type": "code",
   "execution_count": 1,
   "id": "ce34f31b-86a9-43f1-bbd1-69912209d1ec",
   "metadata": {},
   "outputs": [
    {
     "name": "stderr",
     "output_type": "stream",
     "text": [
      "/Users/vladimir.shitov/miniconda3/envs/2025_08_citeseqpred/lib/python3.13/site-packages/tqdm/auto.py:21: TqdmWarning: IProgress not found. Please update jupyter and ipywidgets. See https://ipywidgets.readthedocs.io/en/stable/user_install.html\n",
      "  from .autonotebook import tqdm as notebook_tqdm\n"
     ]
    }
   ],
   "source": [
    "import logging\n",
    "\n",
    "import mudata as mu\n",
    "import numpy as np\n",
    "import scanpy as sc\n",
    "\n",
    "from senkin_tmp_cite_pred.preprocess import preprocess_data"
   ]
  },
  {
   "cell_type": "markdown",
   "id": "20b2d882",
   "metadata": {},
   "source": [
    "Create directories for data and models:"
   ]
  },
  {
   "cell_type": "code",
   "execution_count": 2,
   "id": "42bf4cb1",
   "metadata": {},
   "outputs": [],
   "source": [
    "logging.basicConfig(level=logging.DEBUG)"
   ]
  },
  {
   "cell_type": "code",
   "execution_count": 3,
   "id": "983262c4",
   "metadata": {},
   "outputs": [
    {
     "name": "stderr",
     "output_type": "stream",
     "text": [
      "DEBUG:asyncio:Using selector: KqueueSelector\n"
     ]
    }
   ],
   "source": [
    "%%bash\n",
    "\n",
    "mkdir -p data/\n",
    "mkdir -p models/"
   ]
  },
  {
   "cell_type": "code",
   "execution_count": 4,
   "id": "990b4878",
   "metadata": {},
   "outputs": [
    {
     "name": "stderr",
     "output_type": "stream",
     "text": [
      "DEBUG:h5py._conv:Creating converter from 3 to 5\n"
     ]
    }
   ],
   "source": [
    "adata_rna_train = sc.read_h5ad(\"data/train_mod1.h5ad\")\n",
    "adata_rna_test = sc.read_h5ad(\"data/test_mod1.h5ad\")\n",
    "adata_prot_train = sc.read_h5ad(\"data/train_mod2.h5ad\")\n",
    "adata_prot_test = sc.read_h5ad(\"data/test_mod2.h5ad\")"
   ]
  },
  {
   "cell_type": "code",
   "execution_count": 5,
   "id": "3917489c",
   "metadata": {},
   "outputs": [
    {
     "data": {
      "text/plain": [
       "((431, 134), (163, 134), (431, 134), (163, 134))"
      ]
     },
     "execution_count": 5,
     "metadata": {},
     "output_type": "execute_result"
    }
   ],
   "source": [
    "adata_rna_train.shape, adata_rna_test.shape, adata_prot_train.shape, adata_prot_test.shape"
   ]
  },
  {
   "cell_type": "markdown",
   "id": "956112ac",
   "metadata": {},
   "source": [
    "In the 2022 competition, the batch effect correction for this approach was done per day. Let's follow that, and extract day in a separate `.obs` column:"
   ]
  },
  {
   "cell_type": "code",
   "execution_count": 6,
   "id": "dfadca99",
   "metadata": {},
   "outputs": [
    {
     "data": {
      "text/html": [
       "<div>\n",
       "<style scoped>\n",
       "    .dataframe tbody tr th:only-of-type {\n",
       "        vertical-align: middle;\n",
       "    }\n",
       "\n",
       "    .dataframe tbody tr th {\n",
       "        vertical-align: top;\n",
       "    }\n",
       "\n",
       "    .dataframe thead th {\n",
       "        text-align: right;\n",
       "    }\n",
       "</style>\n",
       "<table border=\"1\" class=\"dataframe\">\n",
       "  <thead>\n",
       "    <tr style=\"text-align: right;\">\n",
       "      <th></th>\n",
       "      <th>size_factors</th>\n",
       "      <th>batch</th>\n",
       "    </tr>\n",
       "  </thead>\n",
       "  <tbody>\n",
       "    <tr>\n",
       "      <th>TCCGAAAAGAGGACTC-1-s4d8</th>\n",
       "      <td>22.0</td>\n",
       "      <td>s4d8</td>\n",
       "    </tr>\n",
       "    <tr>\n",
       "      <th>ATTCATCGTTAGTCGT-1-s4d1</th>\n",
       "      <td>15.0</td>\n",
       "      <td>s4d1</td>\n",
       "    </tr>\n",
       "    <tr>\n",
       "      <th>CATCGTCTCTGAGAGG-1-s4d8</th>\n",
       "      <td>23.0</td>\n",
       "      <td>s4d8</td>\n",
       "    </tr>\n",
       "    <tr>\n",
       "      <th>CATGGATGTACGCTAT-1-s4d1</th>\n",
       "      <td>7.0</td>\n",
       "      <td>s4d1</td>\n",
       "    </tr>\n",
       "    <tr>\n",
       "      <th>TCCTTCTTCCACCCTA-1-s2d1</th>\n",
       "      <td>15.0</td>\n",
       "      <td>s2d1</td>\n",
       "    </tr>\n",
       "    <tr>\n",
       "      <th>...</th>\n",
       "      <td>...</td>\n",
       "      <td>...</td>\n",
       "    </tr>\n",
       "    <tr>\n",
       "      <th>CATTCCGAGTGCTACT-1-s4d8</th>\n",
       "      <td>30.0</td>\n",
       "      <td>s4d8</td>\n",
       "    </tr>\n",
       "    <tr>\n",
       "      <th>AATGGAATCCATTCAT-1-s4d8</th>\n",
       "      <td>39.0</td>\n",
       "      <td>s4d8</td>\n",
       "    </tr>\n",
       "    <tr>\n",
       "      <th>GGCTTTCGTGGACCTC-1-s4d8</th>\n",
       "      <td>51.0</td>\n",
       "      <td>s4d8</td>\n",
       "    </tr>\n",
       "    <tr>\n",
       "      <th>GTGGTTAAGCATAGGC-1-s3d7</th>\n",
       "      <td>12.0</td>\n",
       "      <td>s3d7</td>\n",
       "    </tr>\n",
       "    <tr>\n",
       "      <th>GAGGCAATCTCCAAGA-1-s4d1</th>\n",
       "      <td>52.0</td>\n",
       "      <td>s4d1</td>\n",
       "    </tr>\n",
       "  </tbody>\n",
       "</table>\n",
       "<p>163 rows × 2 columns</p>\n",
       "</div>"
      ],
      "text/plain": [
       "                         size_factors batch\n",
       "TCCGAAAAGAGGACTC-1-s4d8          22.0  s4d8\n",
       "ATTCATCGTTAGTCGT-1-s4d1          15.0  s4d1\n",
       "CATCGTCTCTGAGAGG-1-s4d8          23.0  s4d8\n",
       "CATGGATGTACGCTAT-1-s4d1           7.0  s4d1\n",
       "TCCTTCTTCCACCCTA-1-s2d1          15.0  s2d1\n",
       "...                               ...   ...\n",
       "CATTCCGAGTGCTACT-1-s4d8          30.0  s4d8\n",
       "AATGGAATCCATTCAT-1-s4d8          39.0  s4d8\n",
       "GGCTTTCGTGGACCTC-1-s4d8          51.0  s4d8\n",
       "GTGGTTAAGCATAGGC-1-s3d7          12.0  s3d7\n",
       "GAGGCAATCTCCAAGA-1-s4d1          52.0  s4d1\n",
       "\n",
       "[163 rows x 2 columns]"
      ]
     },
     "execution_count": 6,
     "metadata": {},
     "output_type": "execute_result"
    }
   ],
   "source": [
    "adata_rna_test.obs"
   ]
  },
  {
   "cell_type": "code",
   "execution_count": 7,
   "id": "9265a070",
   "metadata": {},
   "outputs": [],
   "source": [
    "def extract_day_and_donor_from_batch(batch: str) -> tuple[str, str]:\n",
    "    \"Extract day and donor numbers N and M from IDs of format sNdM\"\n",
    "    d_index = batch.find(\"d\")\n",
    "    day = batch[1: d_index]\n",
    "    donor = batch[d_index + 1 :]\n",
    "    return day, donor\n",
    "\n",
    "adata_rna_train.obs[\"day\"], adata_rna_train.obs[\"donor\"] = zip(*adata_rna_train.obs[\"batch\"].astype(str).map(extract_day_and_donor_from_batch))\n",
    "adata_rna_test.obs[\"day\"], adata_rna_test.obs[\"donor\"] = zip(*adata_rna_test.obs[\"batch\"].astype(str).map(extract_day_and_donor_from_batch))\n",
    "adata_prot_train.obs[\"day\"], adata_prot_train.obs[\"donor\"] = zip(*adata_prot_train.obs[\"batch\"].astype(str).map(extract_day_and_donor_from_batch))\n",
    "adata_prot_test.obs[\"day\"], adata_prot_test.obs[\"donor\"] = zip(*adata_prot_test.obs[\"batch\"].astype(str).map(extract_day_and_donor_from_batch))\n"
   ]
  },
  {
   "cell_type": "code",
   "execution_count": 8,
   "id": "84a9bba1",
   "metadata": {},
   "outputs": [],
   "source": [
    "adata_rna_train.obs[\"split\"] = \"train\"\n",
    "adata_rna_test.obs[\"split\"] = \"test\"\n",
    "adata_prot_train.obs[\"split\"] = \"train\"\n",
    "adata_prot_test.obs[\"split\"] = \"test\""
   ]
  },
  {
   "cell_type": "markdown",
   "id": "cd346955",
   "metadata": {},
   "source": [
    "Put all the modalities in one object. This will make sure that the indexes are aligned"
   ]
  },
  {
   "cell_type": "code",
   "execution_count": 9,
   "id": "a04f6461",
   "metadata": {},
   "outputs": [
    {
     "data": {
      "text/html": [
       "<div>\n",
       "<style scoped>\n",
       "    .dataframe tbody tr th:only-of-type {\n",
       "        vertical-align: middle;\n",
       "    }\n",
       "\n",
       "    .dataframe tbody tr th {\n",
       "        vertical-align: top;\n",
       "    }\n",
       "\n",
       "    .dataframe thead th {\n",
       "        text-align: right;\n",
       "    }\n",
       "</style>\n",
       "<table border=\"1\" class=\"dataframe\">\n",
       "  <thead>\n",
       "    <tr style=\"text-align: right;\">\n",
       "      <th></th>\n",
       "      <th>hvg</th>\n",
       "      <th>hvg_score</th>\n",
       "    </tr>\n",
       "  </thead>\n",
       "  <tbody>\n",
       "    <tr>\n",
       "      <th>ENSG00000104320</th>\n",
       "      <td>True</td>\n",
       "      <td>-0.674490</td>\n",
       "    </tr>\n",
       "    <tr>\n",
       "      <th>ENSG00000187713</th>\n",
       "      <td>True</td>\n",
       "      <td>-0.251418</td>\n",
       "    </tr>\n",
       "    <tr>\n",
       "      <th>ENSG00000260349</th>\n",
       "      <td>True</td>\n",
       "      <td>0.391433</td>\n",
       "    </tr>\n",
       "    <tr>\n",
       "      <th>ENSG00000150756</th>\n",
       "      <td>True</td>\n",
       "      <td>-0.720957</td>\n",
       "    </tr>\n",
       "    <tr>\n",
       "      <th>ENSG00000105676</th>\n",
       "      <td>True</td>\n",
       "      <td>-0.674490</td>\n",
       "    </tr>\n",
       "    <tr>\n",
       "      <th>...</th>\n",
       "      <td>...</td>\n",
       "      <td>...</td>\n",
       "    </tr>\n",
       "    <tr>\n",
       "      <th>ENSG00000241343</th>\n",
       "      <td>True</td>\n",
       "      <td>-4.003093</td>\n",
       "    </tr>\n",
       "    <tr>\n",
       "      <th>ENSG00000196267</th>\n",
       "      <td>True</td>\n",
       "      <td>0.000000</td>\n",
       "    </tr>\n",
       "    <tr>\n",
       "      <th>ENSG00000112078</th>\n",
       "      <td>True</td>\n",
       "      <td>0.686500</td>\n",
       "    </tr>\n",
       "    <tr>\n",
       "      <th>ENSG00000261136</th>\n",
       "      <td>True</td>\n",
       "      <td>-0.698529</td>\n",
       "    </tr>\n",
       "    <tr>\n",
       "      <th>ENSG00000163848</th>\n",
       "      <td>True</td>\n",
       "      <td>-0.103547</td>\n",
       "    </tr>\n",
       "  </tbody>\n",
       "</table>\n",
       "<p>134 rows × 2 columns</p>\n",
       "</div>"
      ],
      "text/plain": [
       "                  hvg  hvg_score\n",
       "ENSG00000104320  True  -0.674490\n",
       "ENSG00000187713  True  -0.251418\n",
       "ENSG00000260349  True   0.391433\n",
       "ENSG00000150756  True  -0.720957\n",
       "ENSG00000105676  True  -0.674490\n",
       "...               ...        ...\n",
       "ENSG00000241343  True  -4.003093\n",
       "ENSG00000196267  True   0.000000\n",
       "ENSG00000112078  True   0.686500\n",
       "ENSG00000261136  True  -0.698529\n",
       "ENSG00000163848  True  -0.103547\n",
       "\n",
       "[134 rows x 2 columns]"
      ]
     },
     "execution_count": 9,
     "metadata": {},
     "output_type": "execute_result"
    }
   ],
   "source": [
    "adata_rna_train.var"
   ]
  },
  {
   "cell_type": "code",
   "execution_count": 10,
   "id": "838a7cfc",
   "metadata": {},
   "outputs": [
    {
     "name": "stderr",
     "output_type": "stream",
     "text": [
      "/Users/vladimir.shitov/miniconda3/envs/2025_08_citeseqpred/lib/python3.13/site-packages/mudata/_core/mudata.py:1598: FutureWarning: From 0.4 .update() will not pull obs/var columns from individual modalities by default anymore. Set mudata.set_options(pull_on_update=False) to adopt the new behaviour, which will become the default. Use new pull_obs/pull_var and push_obs/push_var methods for more flexibility.\n",
      "  self._update_attr(\"var\", axis=0, join_common=join_common)\n",
      "/Users/vladimir.shitov/miniconda3/envs/2025_08_citeseqpred/lib/python3.13/site-packages/mudata/_core/mudata.py:963: UserWarning: Cannot join columns with the same name because var_names are intersecting.\n",
      "  warnings.warn(\n",
      "/Users/vladimir.shitov/miniconda3/envs/2025_08_citeseqpred/lib/python3.13/site-packages/mudata/_core/mudata.py:1461: FutureWarning: From 0.4 .update() will not pull obs/var columns from individual modalities by default anymore. Set mudata.set_options(pull_on_update=False) to adopt the new behaviour, which will become the default. Use new pull_obs/pull_var and push_obs/push_var methods for more flexibility.\n",
      "  self._update_attr(\"obs\", axis=1, join_common=join_common)\n"
     ]
    },
    {
     "data": {
      "text/html": [
       "<pre>MuData object with n_obs × n_vars = 594 × 268\n",
       "  2 modalities\n",
       "    rna:\t594 x 134\n",
       "      obs:\t&#x27;size_factors&#x27;, &#x27;batch&#x27;, &#x27;day&#x27;, &#x27;donor&#x27;, &#x27;split&#x27;\n",
       "      layers:\t&#x27;counts&#x27;, &#x27;normalized&#x27;\n",
       "    prot:\t594 x 134\n",
       "      obs:\t&#x27;size_factors&#x27;, &#x27;batch&#x27;, &#x27;day&#x27;, &#x27;donor&#x27;, &#x27;split&#x27;\n",
       "      layers:\t&#x27;counts&#x27;, &#x27;normalized&#x27;</pre>"
      ],
      "text/plain": [
       "MuData object with n_obs × n_vars = 594 × 268\n",
       "  2 modalities\n",
       "    rna:\t594 x 134\n",
       "      obs:\t'size_factors', 'batch', 'day', 'donor', 'split'\n",
       "      layers:\t'counts', 'normalized'\n",
       "    prot:\t594 x 134\n",
       "      obs:\t'size_factors', 'batch', 'day', 'donor', 'split'\n",
       "      layers:\t'counts', 'normalized'"
      ]
     },
     "execution_count": 10,
     "metadata": {},
     "output_type": "execute_result"
    }
   ],
   "source": [
    "mdata = mu.MuData({\"rna\": sc.concat([adata_rna_train, adata_rna_test], axis=0), \"prot\": sc.concat([adata_prot_train, adata_prot_test], axis=0)})\n",
    "mdata"
   ]
  },
  {
   "cell_type": "markdown",
   "id": "abfd71b0",
   "metadata": {},
   "source": [
    "We can add a set of known features, which are important for prediction of the given surface proteins. In the original solution, it was a set of genes that encode proteins in the CITE-seq data. Here, we'll use genes that encoded proteins used **in the 2022 competition**. Make sure to select these features appropriately, this is very important! Additionally, double check that IDs have an appropriate format: same type of encoding, no suffixes, etc."
   ]
  },
  {
   "cell_type": "code",
   "execution_count": 11,
   "id": "cda7b400",
   "metadata": {},
   "outputs": [],
   "source": [
    "competition_2022_genes = [\n",
    "    \"ENSG00000134256\",\n",
    "    \"ENSG00000083457\",\n",
    "    \"ENSG00000185896\",\n",
    "    \"ENSG00000130202\",\n",
    "    \"ENSG00000182578\",\n",
    "    \"ENSG00000027697\",\n",
    "    \"ENSG00000005844\",\n",
    "    \"ENSG00000169896\",\n",
    "    \"ENSG00000140678\",\n",
    "    \"ENSG00000100385\",\n",
    "    \"ENSG00000185291\",\n",
    "    \"ENSG00000292332\",\n",
    "    \"ENSG00000077238\",\n",
    "    \"ENSG00000168685\",\n",
    "    \"ENSG00000166825\",\n",
    "    \"ENSG00000186827\",\n",
    "    \"ENSG00000049249\",\n",
    "    \"ENSG00000131495\",\n",
    "    \"ENSG00000170458\",\n",
    "    \"ENSG00000178726\",\n",
    "    \"ENSG00000117525\",\n",
    "    \"ENSG00000076706\",\n",
    "    \"ENSG00000163599\",\n",
    "    \"ENSG00000102245\",\n",
    "    \"ENSG00000073008\",\n",
    "    \"ENSG00000274108\",\n",
    "    \"ENSG00000283708\",\n",
    "    \"ENSG00000284241\",\n",
    "    \"ENSG00000275623\",\n",
    "    \"ENSG00000277317\",\n",
    "    \"ENSG00000284236\",\n",
    "    \"ENSG00000274410\",\n",
    "    \"ENSG00000275008\",\n",
    "    \"ENSG00000283702\",\n",
    "    \"ENSG00000277484\",\n",
    "    \"ENSG00000274830\",\n",
    "    \"ENSG00000284044\",\n",
    "    \"ENSG00000276590\",\n",
    "    \"ENSG00000284510\",\n",
    "    \"ENSG00000243772\",\n",
    "    \"ENSG00000274952\",\n",
    "    \"ENSG00000277924\",\n",
    "    \"ENSG00000284333\",\n",
    "    \"ENSG00000284132\",\n",
    "    \"ENSG00000283996\",\n",
    "    \"ENSG00000276218\",\n",
    "    \"ENSG00000277554\",\n",
    "    \"ENSG00000278327\",\n",
    "    \"ENSG00000284504\",\n",
    "    \"ENSG00000283790\",\n",
    "    \"ENSG00000274402\",\n",
    "    \"ENSG00000273947\",\n",
    "    \"ENSG00000273887\",\n",
    "    \"ENSG00000276459\",\n",
    "    \"ENSG00000278369\",\n",
    "    \"ENSG00000275658\",\n",
    "    \"ENSG00000276011\",\n",
    "    \"ENSG00000275914\",\n",
    "    \"ENSG00000278731\",\n",
    "    \"ENSG00000278692\",\n",
    "    \"ENSG00000275546\",\n",
    "    \"ENSG00000274412\",\n",
    "    \"ENSG00000277725\",\n",
    "    \"ENSG00000277251\",\n",
    "    \"ENSG00000276731\",\n",
    "    \"ENSG00000273661\",\n",
    "    \"ENSG00000273578\",\n",
    "    \"ENSG00000275960\",\n",
    "    \"ENSG00000274518\",\n",
    "    \"ENSG00000275452\",\n",
    "    \"ENSG00000275735\",\n",
    "    \"ENSG00000278300\",\n",
    "    \"ENSG00000274438\",\n",
    "    \"ENSG00000275253\",\n",
    "    \"ENSG00000276425\",\n",
    "    \"ENSG00000276139\",\n",
    "    \"ENSG00000276258\",\n",
    "    \"ENSG00000277885\",\n",
    "    \"ENSG00000278152\",\n",
    "    \"ENSG00000275737\",\n",
    "    \"ENSG00000274948\",\n",
    "    \"ENSG00000273775\",\n",
    "    \"ENSG00000283731\",\n",
    "    \"ENSG00000284093\",\n",
    "    \"ENSG00000274036\",\n",
    "    \"ENSG00000274920\",\n",
    "    \"ENSG00000284426\",\n",
    "    \"ENSG00000276329\",\n",
    "    \"ENSG00000275717\",\n",
    "    \"ENSG00000276423\",\n",
    "    \"ENSG00000284177\",\n",
    "    \"ENSG00000284589\",\n",
    "    \"ENSG00000284342\",\n",
    "    \"ENSG00000275659\",\n",
    "    \"ENSG00000276379\",\n",
    "    \"ENSG00000275786\",\n",
    "    \"ENSG00000275486\",\n",
    "    \"ENSG00000283827\",\n",
    "    \"ENSG00000278079\",\n",
    "    \"ENSG00000277175\",\n",
    "    \"ENSG00000278856\",\n",
    "    \"ENSG00000276501\",\n",
    "    \"ENSG00000273518\",\n",
    "    \"ENSG00000275545\",\n",
    "    \"ENSG00000278368\",\n",
    "    \"ENSG00000167633\",\n",
    "    \"ENSG00000277272\",\n",
    "    \"ENSG00000274146\",\n",
    "    \"ENSG00000278427\",\n",
    "    \"ENSG00000283954\",\n",
    "    \"ENSG00000283729\",\n",
    "    \"ENSG00000275288\",\n",
    "    \"ENSG00000203747\",\n",
    "    \"ENSG00000162747\",\n",
    "    \"ENSG00000111796\",\n",
    "    \"ENSG00000110876\",\n",
    "    \"ENSG00000177575\",\n",
    "    \"ENSG00000088827\",\n",
    "    \"ENSG00000198053\",\n",
    "    \"ENSG00000160255\",\n",
    "    \"ENSG00000160683\",\n",
    "    \"ENSG00000177455\",\n",
    "    \"ENSG00000121807\",\n",
    "    \"ENSG00000183813\",\n",
    "    \"ENSG00000160791\",\n",
    "    \"ENSG00000112486\",\n",
    "    \"ENSG00000158481\",\n",
    "    \"ENSG00000158473\",\n",
    "    \"ENSG00000116824\",\n",
    "    \"ENSG00000171431\",\n",
    "    \"ENSG00000263057\",\n",
    "    \"ENSG00000156738\",\n",
    "    \"ENSG00000117322\",\n",
    "    \"ENSG00000012124\",\n",
    "    \"ENSG00000089692\",\n",
    "    \"ENSG00000100031\",\n",
    "    \"ENSG00000150637\",\n",
    "    \"ENSG00000104921\",\n",
    "    \"ENSG00000272398\",\n",
    "    \"ENSG00000122223\",\n",
    "    \"ENSG00000172183\",\n",
    "    \"ENSG00000134460\",\n",
    "    \"ENSG00000197635\",\n",
    "    \"ENSG00000159958\",\n",
    "    \"ENSG00000139193\",\n",
    "    \"ENSG00000157873\",\n",
    "    \"ENSG00000273936\",\n",
    "    \"ENSG00000186265\",\n",
    "    \"ENSG00000120217\",\n",
    "    \"ENSG00000163600\",\n",
    "    \"ENSG00000276977\",\n",
    "    \"ENSG00000188389\",\n",
    "    \"ENSG00000178562\",\n",
    "    \"ENSG00000150093\",\n",
    "    \"ENSG00000198178\",\n",
    "    \"ENSG00000099250\",\n",
    "    \"ENSG00000261371\",\n",
    "    \"ENSG00000213809\",\n",
    "    \"ENSG00000026751\",\n",
    "    \"ENSG00000072694\",\n",
    "    \"ENSG00000143226\",\n",
    "    \"ENSG00000168995\",\n",
    "    \"ENSG00000105383\",\n",
    "    \"ENSG00000275521\",\n",
    "    \"ENSG00000273916\",\n",
    "    \"ENSG00000277442\",\n",
    "    \"ENSG00000273506\",\n",
    "    \"ENSG00000276450\",\n",
    "    \"ENSG00000277824\",\n",
    "    \"ENSG00000278362\",\n",
    "    \"ENSG00000278025\",\n",
    "    \"ENSG00000275637\",\n",
    "    \"ENSG00000275822\",\n",
    "    \"ENSG00000274053\",\n",
    "    \"ENSG00000277629\",\n",
    "    \"ENSG00000189430\",\n",
    "    \"ENSG00000275156\",\n",
    "    \"ENSG00000273535\",\n",
    "    \"ENSG00000277334\",\n",
    "    \"ENSG00000203710\",\n",
    "    \"ENSG00000162739\",\n",
    "    \"ENSG00000135218\",\n",
    "    \"ENSG00000004468\",\n",
    "    \"ENSG00000138185\",\n",
    "    \"ENSG00000010610\",\n",
    "    \"ENSG00000101017\",\n",
    "    \"ENSG00000005961\",\n",
    "    \"ENSG00000185245\",\n",
    "    \"ENSG00000026508\",\n",
    "    \"ENSG00000262418\",\n",
    "    \"ENSG00000081237\",\n",
    "    \"ENSG00000196776\",\n",
    "    \"ENSG00000117091\",\n",
    "    \"ENSG00000213949\",\n",
    "    \"ENSG00000164171\",\n",
    "    \"ENSG00000115232\",\n",
    "    \"ENSG00000091409\",\n",
    "    \"ENSG00000110448\",\n",
    "    \"ENSG00000169442\",\n",
    "    \"ENSG00000090339\",\n",
    "    \"ENSG00000149294\",\n",
    "    \"ENSG00000109956\",\n",
    "    \"ENSG00000116815\",\n",
    "    \"ENSG00000188404\",\n",
    "    \"ENSG00000174175\",\n",
    "    \"ENSG00000135404\",\n",
    "    \"ENSG00000150337\",\n",
    "    \"ENSG00000110848\",\n",
    "    \"ENSG00000173762\",\n",
    "    \"ENSG00000072274\",\n",
    "    \"ENSG00000137101\",\n",
    "    \"ENSG00000135318\",\n",
    "    \"ENSG00000007312\",\n",
    "    \"ENSG00000153563\",\n",
    "    \"ENSG00000110651\",\n",
    "    \"ENSG00000085117\",\n",
    "    \"ENSG00000112149\",\n",
    "    \"ENSG00000276452\",\n",
    "    \"ENSG00000274669\",\n",
    "    \"ENSG00000277134\",\n",
    "    \"ENSG00000104972\",\n",
    "    \"ENSG00000277807\",\n",
    "    \"ENSG00000114013\",\n",
    "    \"ENSG00000197405\",\n",
    "    \"ENSG00000010278\",\n",
    "    \"ENSG00000125810\",\n",
    "    \"ENSG00000134539\",\n",
    "    \"ENSG00000026103\",\n",
    "    \"ENSG00000168329\",\n",
    "    \"ENSG00000179639\",\n",
    "    \"ENSG00000291905\",\n",
    "    \"ENSG00000206493\",\n",
    "    \"ENSG00000225201\",\n",
    "    \"ENSG00000233904\",\n",
    "    \"ENSG00000230254\",\n",
    "    \"ENSG00000236632\",\n",
    "    \"ENSG00000229252\",\n",
    "    \"ENSG00000204592\",\n",
    "    \"ENSG00000102245\",\n",
    "    \"ENSG00000139187\",\n",
    "    \"ENSG00000205274\",\n",
    "    \"ENSG00000181847\",\n",
    "]\n"
   ]
  },
  {
   "cell_type": "code",
   "execution_count": 12,
   "id": "51d8820d",
   "metadata": {},
   "outputs": [
    {
     "name": "stdout",
     "output_type": "stream",
     "text": [
      "Number of proteins with identical names in RNA: 1\n"
     ]
    }
   ],
   "source": [
    "known_features = np.intersect1d(competition_2022_genes, mdata.mod[\"rna\"].var_names)\n",
    "print(f\"Number of proteins with identical names in RNA: {len(known_features)}\")"
   ]
  },
  {
   "cell_type": "markdown",
   "id": "3ae81d67",
   "metadata": {},
   "source": [
    "Now we can perform required preprocessing with just one function. It includes:\n",
    "- Removal of constant features\n",
    "- 200 components TSVD of CLR-transformed data\n",
    "- 100 components PCA of customly normalized data (see documentation of `senkin_normalize` for details)\n",
    "- Selection of raw expression for known features and for genes correlated with target proteins\n",
    "- DSB normalization of protein data. For this `empty_count_range` setting is needed. Here, we used the same values as in 2022 competition. But this is data dependent, so make sure to select a meaningful range!\n",
    "\n",
    "Note that the nomber of cells will become smaller after this step, because some droplets will be used as a background for DSB normalization. Additionally, number of genes will decrease as constant genes will be removed from RNA data."
   ]
  },
  {
   "cell_type": "code",
   "execution_count": 13,
   "id": "7bb120f5",
   "metadata": {},
   "outputs": [],
   "source": [
    "import logging\n",
    "logging.basicConfig(level=logging.DEBUG)"
   ]
  },
  {
   "cell_type": "markdown",
   "id": "adc6c9f6",
   "metadata": {},
   "source": [
    "Put raw counts in .X for both modalities:"
   ]
  },
  {
   "cell_type": "code",
   "execution_count": 14,
   "id": "88861e4a",
   "metadata": {},
   "outputs": [],
   "source": [
    "mdata.mod[\"rna\"].X = mdata.mod[\"rna\"].layers[\"counts\"]\n",
    "mdata.mod[\"prot\"].X = mdata.mod[\"prot\"].layers[\"counts\"]"
   ]
  },
  {
   "cell_type": "code",
   "execution_count": 15,
   "id": "0b8c7485",
   "metadata": {},
   "outputs": [
    {
     "name": "stderr",
     "output_type": "stream",
     "text": [
      "INFO:senkin_tmp_cite_pred.preprocess:DSB-normalizing protein data. The number of cells will be reduced.\n",
      "DEBUG:senkin_tmp_cite_pred.preprocess:Number of cells before DSB: 594\n",
      "/Users/vladimir.shitov/miniconda3/envs/2025_08_citeseqpred/lib/python3.13/site-packages/mudata/_core/mudata.py:1598: FutureWarning: From 0.4 .update() will not pull obs/var columns from individual modalities by default anymore. Set mudata.set_options(pull_on_update=False) to adopt the new behaviour, which will become the default. Use new pull_obs/pull_var and push_obs/push_var methods for more flexibility.\n",
      "  self._update_attr(\"var\", axis=0, join_common=join_common)\n",
      "/Users/vladimir.shitov/miniconda3/envs/2025_08_citeseqpred/lib/python3.13/site-packages/mudata/_core/mudata.py:963: UserWarning: Cannot join columns with the same name because var_names are intersecting.\n",
      "  warnings.warn(\n",
      "/Users/vladimir.shitov/miniconda3/envs/2025_08_citeseqpred/lib/python3.13/site-packages/mudata/_core/mudata.py:1461: FutureWarning: From 0.4 .update() will not pull obs/var columns from individual modalities by default anymore. Set mudata.set_options(pull_on_update=False) to adopt the new behaviour, which will become the default. Use new pull_obs/pull_var and push_obs/push_var methods for more flexibility.\n",
      "  self._update_attr(\"obs\", axis=1, join_common=join_common)\n",
      "DEBUG:senkin_tmp_cite_pred.preprocess:Number of cells after DSB: 507\n",
      "INFO:senkin_tmp_cite_pred.preprocess:Starting RNA preprocessing\n",
      "INFO:senkin_tmp_cite_pred.preprocess:Normalization and log1p-transformation\n",
      "INFO:senkin_tmp_cite_pred.preprocess:Removing constant variables\n",
      "INFO:senkin_tmp_cite_pred.preprocess:Computing CLR-TSVD transformation with 200 components\n",
      "/Users/vladimir.shitov/miniconda3/envs/2025_08_citeseqpred/lib/python3.13/site-packages/muon/_prot/preproc.py:219: UserWarning: adata.X is sparse but not in CSC format. Converting to CSC.\n",
      "  warn(\"adata.X is sparse but not in CSC format. Converting to CSC.\")\n",
      "INFO:senkin_tmp_cite_pred.preprocess:Applying Senkin normalization\n",
      "/Users/vladimir.shitov/miniconda3/envs/2025_08_citeseqpred/lib/python3.13/site-packages/anndata/_core/aligned_mapping.py:284: ImplicitModificationWarning: Obsm 'X_sqrt_norm' should not be a np.matrix, use np.ndarray instead.\n",
      "  return super()._validate_value(val, key)\n",
      "INFO:senkin_tmp_cite_pred.preprocess:Computing PCA with 100 components\n",
      "INFO:senkin_tmp_cite_pred.preprocess:Verifying observation names match between RNA and protein data\n",
      "INFO:senkin_tmp_cite_pred.preprocess:Selecting features based on known proteins and correlations\n",
      "/Users/vladimir.shitov/Documents/programming/senin_tmp_CITE_pred/senkin-tmp-cite-pred/senkin_tmp_cite_pred/preprocess.py:27: RuntimeWarning: invalid value encountered in divide\n",
      "  X = (X - X.mean(axis=0)) / X.std(axis=0)\n",
      "INFO:senkin_tmp_cite_pred.preprocess:Found 119 top correlated genes\n",
      "INFO:senkin_tmp_cite_pred.preprocess:Total 119 features selected\n",
      "INFO:senkin_tmp_cite_pred.preprocess:RNA preprocessing completed\n"
     ]
    }
   ],
   "source": [
    "mdata = preprocess_data(\n",
    "    mdata,\n",
    "    empty_counts_range=(0., 1.),  # Note that this is data-dependent! Data must contain empty droplets.\n",
    "    batch_key=\"day\",\n",
    "    group_key=\"donor\",\n",
    "    known_features=known_features\n",
    ")"
   ]
  },
  {
   "cell_type": "markdown",
   "id": "b5310248",
   "metadata": {},
   "source": [
    "Note new `obsm` fields in RNA modality, and a `dsb` layer in the protein modality:"
   ]
  },
  {
   "cell_type": "code",
   "execution_count": 16,
   "id": "1d683fe7",
   "metadata": {},
   "outputs": [
    {
     "data": {
      "text/html": [
       "<pre>MuData object with n_obs × n_vars = 507 × 268\n",
       "  2 modalities\n",
       "    rna:\t507 x 134\n",
       "      obs:\t&#x27;size_factors&#x27;, &#x27;batch&#x27;, &#x27;day&#x27;, &#x27;donor&#x27;, &#x27;split&#x27;\n",
       "      uns:\t&#x27;log1p&#x27;, &#x27;selected_features&#x27;\n",
       "      obsm:\t&#x27;X_log_normalized&#x27;, &#x27;X_clr_tsvd&#x27;, &#x27;X_sqrt_norm&#x27;, &#x27;X_pca_sqrt_norm&#x27;, &#x27;X_raw_selected&#x27;\n",
       "      layers:\t&#x27;counts&#x27;, &#x27;normalized&#x27;\n",
       "    prot:\t507 x 134\n",
       "      obs:\t&#x27;size_factors&#x27;, &#x27;batch&#x27;, &#x27;day&#x27;, &#x27;donor&#x27;, &#x27;split&#x27;\n",
       "      layers:\t&#x27;counts&#x27;, &#x27;normalized&#x27;, &#x27;dsb&#x27;</pre>"
      ],
      "text/plain": [
       "MuData object with n_obs × n_vars = 507 × 268\n",
       "  2 modalities\n",
       "    rna:\t507 x 134\n",
       "      obs:\t'size_factors', 'batch', 'day', 'donor', 'split'\n",
       "      uns:\t'log1p', 'selected_features'\n",
       "      obsm:\t'X_log_normalized', 'X_clr_tsvd', 'X_sqrt_norm', 'X_pca_sqrt_norm', 'X_raw_selected'\n",
       "      layers:\t'counts', 'normalized'\n",
       "    prot:\t507 x 134\n",
       "      obs:\t'size_factors', 'batch', 'day', 'donor', 'split'\n",
       "      layers:\t'counts', 'normalized', 'dsb'"
      ]
     },
     "execution_count": 16,
     "metadata": {},
     "output_type": "execute_result"
    }
   ],
   "source": [
    "mdata"
   ]
  },
  {
   "cell_type": "markdown",
   "id": "d65f1315",
   "metadata": {},
   "source": [
    "# LGBM predictions"
   ]
  },
  {
   "cell_type": "markdown",
   "id": "b3ef3878",
   "metadata": {},
   "source": [
    "Next, we'll use preprocessed data to make initial prediction of target proteints with Light Gradient Bossting (LGBM) models. The dimensionality of the predictions will be further reduced with TSVD to 100 components. While these predictions are not used per se, they will become features for neural networks. As we showed in our analysis, this makes the resulting prediction much more accurate."
   ]
  },
  {
   "cell_type": "code",
   "execution_count": 17,
   "id": "2f1e3eea",
   "metadata": {},
   "outputs": [],
   "source": [
    "from senkin_tmp_cite_pred.lgbm_models import train_lightgbm_models\n",
    "from sklearn.model_selection import KFold"
   ]
  },
  {
   "cell_type": "code",
   "execution_count": 18,
   "id": "dc7acdbf",
   "metadata": {},
   "outputs": [
    {
     "data": {
      "text/plain": [
       "AnnData object with n_obs × n_vars = 507 × 134\n",
       "    obs: 'size_factors', 'batch', 'day', 'donor', 'split'\n",
       "    uns: 'log1p', 'selected_features'\n",
       "    obsm: 'X_log_normalized', 'X_clr_tsvd', 'X_sqrt_norm', 'X_pca_sqrt_norm', 'X_raw_selected'\n",
       "    layers: 'counts', 'normalized'"
      ]
     },
     "execution_count": 18,
     "metadata": {},
     "output_type": "execute_result"
    }
   ],
   "source": [
    "adata_rna = mdata.mod[\"rna\"]\n",
    "adata_rna"
   ]
  },
  {
   "cell_type": "code",
   "execution_count": 19,
   "id": "ee0da6bd",
   "metadata": {},
   "outputs": [
    {
     "data": {
      "text/plain": [
       "AnnData object with n_obs × n_vars = 507 × 134\n",
       "    obs: 'size_factors', 'batch', 'day', 'donor', 'split'\n",
       "    layers: 'counts', 'normalized', 'dsb'"
      ]
     },
     "execution_count": 19,
     "metadata": {},
     "output_type": "execute_result"
    }
   ],
   "source": [
    "adata_prot = mdata.mod[\"prot\"]\n",
    "adata_prot"
   ]
  },
  {
   "cell_type": "code",
   "execution_count": 20,
   "id": "7c3d1f56",
   "metadata": {},
   "outputs": [
    {
     "data": {
      "text/plain": [
       "day\n",
       "2    147\n",
       "3    145\n",
       "4    112\n",
       "1    103\n",
       "Name: count, dtype: int64"
      ]
     },
     "execution_count": 20,
     "metadata": {},
     "output_type": "execute_result"
    }
   ],
   "source": [
    "adata_rna.obs[\"day\"].value_counts()"
   ]
  },
  {
   "cell_type": "code",
   "execution_count": 21,
   "id": "8b07c649",
   "metadata": {},
   "outputs": [
    {
     "data": {
      "text/plain": [
       "split\n",
       "train    353\n",
       "test     154\n",
       "Name: count, dtype: int64"
      ]
     },
     "execution_count": 21,
     "metadata": {},
     "output_type": "execute_result"
    }
   ],
   "source": [
    "adata_rna.obs[\"split\"].value_counts()"
   ]
  },
  {
   "cell_type": "markdown",
   "id": "f45fbb39",
   "metadata": {},
   "source": [
    "Additionally, we'll define cross-validation splits for the training dataset. It'll help us to see how well our models predict the data on an unseen fold. In this example we'll use 2 folds because we have a very small dataset for testing. In the original approach, 5 folds CV was used. **Set `n_splits` to 5 to match the original approach**"
   ]
  },
  {
   "cell_type": "code",
   "execution_count": 22,
   "id": "f2786ea8",
   "metadata": {},
   "outputs": [],
   "source": [
    "folds = KFold(n_splits=2, shuffle=True, random_state=666)"
   ]
  },
  {
   "cell_type": "markdown",
   "id": "856d32d8",
   "metadata": {},
   "source": [
    "We'll save which cell comes from each fold to make sure results are reproducible after the `folds` variable is lost:"
   ]
  },
  {
   "cell_type": "code",
   "execution_count": 23,
   "id": "5a9ff1c4",
   "metadata": {},
   "outputs": [
    {
     "data": {
      "text/plain": [
       "fold_0\n",
       "test     254\n",
       "train    253\n",
       "Name: count, dtype: int64"
      ]
     },
     "execution_count": 23,
     "metadata": {},
     "output_type": "execute_result"
    }
   ],
   "source": [
    "for i, (train_idxs, test_idxs) in enumerate(folds.split(adata_rna)):\n",
    "    adata_rna.obs[f\"fold_{i}\"] = \"test\"\n",
    "    adata_rna.obs.loc[adata_rna.obs_names[train_idxs], f\"fold_{i}\"] = \"train\"\n",
    "\n",
    "adata_rna.obs[\"fold_0\"].value_counts()"
   ]
  },
  {
   "cell_type": "code",
   "execution_count": 24,
   "id": "6c51f15a",
   "metadata": {},
   "outputs": [],
   "source": [
    "train_cell_ids = adata_rna.obs_names[adata_rna.obs[\"split\"] == \"train\"]\n",
    "test_cell_ids = adata_rna.obs_names[adata_rna.obs[\"split\"] == \"test\"]"
   ]
  },
  {
   "cell_type": "markdown",
   "id": "47b1dd30",
   "metadata": {},
   "source": [
    "Train LGBM models. 4 models will be trained, using different subsets of training data, and different preprocessing of the target proteins. In this example, we'll only build models for 3 proteins here, and train them for only 3 epochs. Remove `[:, 3]` after `adata_prot` to use all the proteins, and remove `num_boost_round` `early_stopping_rounds`, and `n_tsvd_components` to use the default parameters"
   ]
  },
  {
   "cell_type": "code",
   "execution_count": null,
   "id": "aaec8d1e",
   "metadata": {},
   "outputs": [
    {
     "name": "stderr",
     "output_type": "stream",
     "text": [
      "INFO:senkin_tmp_cite_pred.lgbm_models:Initializing arrays in obsm with zeros\n",
      "INFO:senkin_tmp_cite_pred.lgbm_models:Training LightGBM models\n",
      "INFO:senkin_tmp_cite_pred.lgbm_models:Training LightGBM model 1 for predicting DSB-normalized protein expression from log-normalized RNA expression\n",
      "INFO:senkin_tmp_cite_pred.lgbm_models:Training LightGBM models for 3 targets\n",
      "DEBUG:senkin_tmp_cite_pred.lgbm_models:Training LightGBM model for target 0\n",
      "DEBUG:senkin_tmp_cite_pred.lgbm_models:Fold: 0\n",
      "DEBUG:senkin_tmp_cite_pred.lgbm_models:Fold: 1\n",
      "DEBUG:senkin_tmp_cite_pred.lgbm_models:Training LightGBM model for target 1\n",
      "DEBUG:senkin_tmp_cite_pred.lgbm_models:Fold: 0\n",
      "DEBUG:senkin_tmp_cite_pred.lgbm_models:Fold: 1\n",
      "DEBUG:senkin_tmp_cite_pred.lgbm_models:Training LightGBM model for target 2\n",
      "DEBUG:senkin_tmp_cite_pred.lgbm_models:Fold: 0\n",
      "DEBUG:senkin_tmp_cite_pred.lgbm_models:Fold: 1\n",
      "INFO:senkin_tmp_cite_pred.lgbm_models:CV score: 0.20403000504862948\n",
      "INFO:senkin_tmp_cite_pred.lgbm_models:TSVD-reducing predictions to 2 components\n",
      "INFO:senkin_tmp_cite_pred.lgbm_models:Preparing datasets for LightGBM model 2\n",
      "INFO:senkin_tmp_cite_pred.lgbm_models:Training LightGBM model 2 for predicting DSB-normalized protein expression from customly normalized RNA expression data and selected features\n",
      "INFO:senkin_tmp_cite_pred.lgbm_models:Training LightGBM models for 3 targets\n",
      "DEBUG:senkin_tmp_cite_pred.lgbm_models:Training LightGBM model for target 0\n",
      "DEBUG:senkin_tmp_cite_pred.lgbm_models:Fold: 0\n",
      "DEBUG:senkin_tmp_cite_pred.lgbm_models:Fold: 1\n",
      "DEBUG:senkin_tmp_cite_pred.lgbm_models:Training LightGBM model for target 1\n",
      "DEBUG:senkin_tmp_cite_pred.lgbm_models:Fold: 0\n",
      "DEBUG:senkin_tmp_cite_pred.lgbm_models:Fold: 1\n"
     ]
    },
    {
     "name": "stdout",
     "output_type": "stream",
     "text": [
      "Training until validation scores don't improve for 2 rounds\n",
      "Did not meet early stopping. Best iteration is:\n",
      "[3]\tvalid_0's l2: 0.247725\n",
      "Training until validation scores don't improve for 2 rounds\n",
      "Did not meet early stopping. Best iteration is:\n",
      "[3]\tvalid_0's l2: 0.294214\n",
      "Training until validation scores don't improve for 2 rounds\n",
      "Did not meet early stopping. Best iteration is:\n",
      "[3]\tvalid_0's l2: 1.62377\n",
      "Training until validation scores don't improve for 2 rounds\n",
      "Early stopping, best iteration is:\n",
      "[1]\tvalid_0's l2: 0.645025\n",
      "Training until validation scores don't improve for 2 rounds\n",
      "Did not meet early stopping. Best iteration is:\n",
      "[3]\tvalid_0's l2: 0.220594\n",
      "Training until validation scores don't improve for 2 rounds\n",
      "Did not meet early stopping. Best iteration is:\n",
      "[3]\tvalid_0's l2: 0.331571\n",
      "Training until validation scores don't improve for 2 rounds\n",
      "Did not meet early stopping. Best iteration is:\n",
      "[3]\tvalid_0's l2: 0.248225\n",
      "Training until validation scores don't improve for 2 rounds\n",
      "Did not meet early stopping. Best iteration is:\n",
      "[2]\tvalid_0's l2: 0.29368\n",
      "Training until validation scores don't improve for 2 rounds\n",
      "Early stopping, best iteration is:\n",
      "[1]\tvalid_0's l2: 1.6244\n"
     ]
    },
    {
     "name": "stderr",
     "output_type": "stream",
     "text": [
      "DEBUG:senkin_tmp_cite_pred.lgbm_models:Training LightGBM model for target 2\n",
      "DEBUG:senkin_tmp_cite_pred.lgbm_models:Fold: 0\n",
      "DEBUG:senkin_tmp_cite_pred.lgbm_models:Fold: 1\n",
      "INFO:senkin_tmp_cite_pred.lgbm_models:CV score: 0.20412019992339497\n",
      "INFO:senkin_tmp_cite_pred.lgbm_models:TSVD-reducing predictions to 2 components\n",
      "INFO:senkin_tmp_cite_pred.lgbm_models:Training LightGBM model 3 for predicting DSB-normalized protein expression from raw RNA expression\n",
      "INFO:senkin_tmp_cite_pred.lgbm_models:Training LightGBM models for 3 targets\n",
      "DEBUG:senkin_tmp_cite_pred.lgbm_models:Training LightGBM model for target 0\n",
      "DEBUG:senkin_tmp_cite_pred.lgbm_models:Fold: 0\n",
      "DEBUG:senkin_tmp_cite_pred.lgbm_models:Fold: 1\n",
      "DEBUG:senkin_tmp_cite_pred.lgbm_models:Training LightGBM model for target 1\n",
      "DEBUG:senkin_tmp_cite_pred.lgbm_models:Fold: 0\n",
      "DEBUG:senkin_tmp_cite_pred.lgbm_models:Fold: 1\n",
      "DEBUG:senkin_tmp_cite_pred.lgbm_models:Training LightGBM model for target 2\n",
      "DEBUG:senkin_tmp_cite_pred.lgbm_models:Fold: 0\n",
      "DEBUG:senkin_tmp_cite_pred.lgbm_models:Fold: 1\n",
      "INFO:senkin_tmp_cite_pred.lgbm_models:CV score: 0.20449305025078257\n",
      "INFO:senkin_tmp_cite_pred.lgbm_models:TSVD-reducing predictions to 2 components\n",
      "INFO:senkin_tmp_cite_pred.lgbm_models:Training LightGBM model 4 for predicting raw protein expression from raw RNA expression\n",
      "INFO:senkin_tmp_cite_pred.lgbm_models:Training LightGBM models for 3 targets\n",
      "DEBUG:senkin_tmp_cite_pred.lgbm_models:Training LightGBM model for target 0\n",
      "DEBUG:senkin_tmp_cite_pred.lgbm_models:Fold: 0\n",
      "DEBUG:senkin_tmp_cite_pred.lgbm_models:Fold: 1\n",
      "DEBUG:senkin_tmp_cite_pred.lgbm_models:Training LightGBM model for target 1\n",
      "DEBUG:senkin_tmp_cite_pred.lgbm_models:Fold: 0\n",
      "DEBUG:senkin_tmp_cite_pred.lgbm_models:Fold: 1\n",
      "DEBUG:senkin_tmp_cite_pred.lgbm_models:Training LightGBM model for target 2\n",
      "DEBUG:senkin_tmp_cite_pred.lgbm_models:Fold: 0\n"
     ]
    },
    {
     "name": "stdout",
     "output_type": "stream",
     "text": [
      "Training until validation scores don't improve for 2 rounds\n",
      "Early stopping, best iteration is:\n",
      "[1]\tvalid_0's l2: 0.644973\n",
      "Training until validation scores don't improve for 2 rounds\n",
      "Did not meet early stopping. Best iteration is:\n",
      "[3]\tvalid_0's l2: 0.218873\n",
      "Training until validation scores don't improve for 2 rounds\n",
      "Did not meet early stopping. Best iteration is:\n",
      "[3]\tvalid_0's l2: 0.331109\n",
      "Training until validation scores don't improve for 2 rounds\n",
      "Did not meet early stopping. Best iteration is:\n",
      "[2]\tvalid_0's l2: 0.247778\n",
      "Training until validation scores don't improve for 2 rounds\n",
      "Early stopping, best iteration is:\n",
      "[1]\tvalid_0's l2: 0.293921\n",
      "Training until validation scores don't improve for 2 rounds\n",
      "Early stopping, best iteration is:\n",
      "[1]\tvalid_0's l2: 1.62402\n",
      "Training until validation scores don't improve for 2 rounds\n",
      "Did not meet early stopping. Best iteration is:\n",
      "[2]\tvalid_0's l2: 0.644732\n",
      "Training until validation scores don't improve for 2 rounds\n",
      "Did not meet early stopping. Best iteration is:\n",
      "[3]\tvalid_0's l2: 0.220632\n",
      "Training until validation scores don't improve for 2 rounds\n",
      "Did not meet early stopping. Best iteration is:\n",
      "[3]\tvalid_0's l2: 0.331303\n",
      "Training until validation scores don't improve for 2 rounds\n",
      "Did not meet early stopping. Best iteration is:\n",
      "[3]\tvalid_0's l2: 92.1374\n",
      "Training until validation scores don't improve for 2 rounds\n",
      "Did not meet early stopping. Best iteration is:\n",
      "[3]\tvalid_0's l2: 145.162\n",
      "Training until validation scores don't improve for 2 rounds\n",
      "Early stopping, best iteration is:\n",
      "[1]\tvalid_0's l2: 4.12152\n",
      "Training until validation scores don't improve for 2 rounds\n",
      "Did not meet early stopping. Best iteration is:\n",
      "[2]\tvalid_0's l2: 0.629158\n"
     ]
    },
    {
     "name": "stderr",
     "output_type": "stream",
     "text": [
      "DEBUG:senkin_tmp_cite_pred.lgbm_models:Fold: 1\n",
      "INFO:senkin_tmp_cite_pred.lgbm_models:CV score: 0.8122238423558394\n",
      "INFO:senkin_tmp_cite_pred.lgbm_models:TSVD-reducing predictions to 2 components\n"
     ]
    },
    {
     "name": "stdout",
     "output_type": "stream",
     "text": [
      "Training until validation scores don't improve for 2 rounds\n",
      "Did not meet early stopping. Best iteration is:\n",
      "[3]\tvalid_0's l2: 439.644\n",
      "Training until validation scores don't improve for 2 rounds\n",
      "Did not meet early stopping. Best iteration is:\n",
      "[3]\tvalid_0's l2: 804.945\n"
     ]
    }
   ],
   "source": [
    "adata_rna = train_lightgbm_models(\n",
    "    adata_rna,\n",
    "    adata_prot,\n",
    "    train_cell_ids=train_cell_ids,\n",
    "    test_cell_ids=test_cell_ids,\n",
    "    folds=folds,\n",
    "    num_boost_round=3,\n",
    "    early_stopping_rounds=2,\n",
    "    n_tsvd_components=10\n",
    ")"
   ]
  },
  {
   "cell_type": "markdown",
   "id": "ee0cca12",
   "metadata": {},
   "source": [
    "Note that we know have 4 additional `X_lgbm` arrays in the `.obsm`:"
   ]
  },
  {
   "cell_type": "code",
   "execution_count": 26,
   "id": "dae4d5c4",
   "metadata": {},
   "outputs": [
    {
     "data": {
      "text/plain": [
       "AnnData object with n_obs × n_vars = 507 × 134\n",
       "    obs: 'size_factors', 'batch', 'day', 'donor', 'split', 'fold_0', 'fold_1'\n",
       "    uns: 'log1p', 'selected_features'\n",
       "    obsm: 'X_log_normalized', 'X_clr_tsvd', 'X_sqrt_norm', 'X_pca_sqrt_norm', 'X_raw_selected', 'X_lgbm_1', 'X_lgbm_2', 'X_lgbm_3', 'X_lgbm_4'\n",
       "    layers: 'counts', 'normalized'"
      ]
     },
     "execution_count": 26,
     "metadata": {},
     "output_type": "execute_result"
    }
   ],
   "source": [
    "adata_rna"
   ]
  },
  {
   "cell_type": "markdown",
   "id": "709b5ab4",
   "metadata": {},
   "source": [
    "# Train neural networks"
   ]
  },
  {
   "cell_type": "code",
   "execution_count": 27,
   "id": "092c66bd",
   "metadata": {},
   "outputs": [],
   "source": [
    "from senkin_tmp_cite_pred.nn_models import train_nn_models"
   ]
  },
  {
   "cell_type": "markdown",
   "id": "dbe96464",
   "metadata": {},
   "source": [
    "Finally, we'll train two neural networks with originally proposed architectures to predict target proteins. First, let's prepare datasets:"
   ]
  },
  {
   "cell_type": "code",
   "execution_count": 28,
   "id": "d7b3622f",
   "metadata": {},
   "outputs": [],
   "source": [
    "train_cite_X = np.concatenate([\n",
    "    adata_rna[train_cell_ids].obsm[\"X_clr_tsvd\"],\n",
    "    adata_rna[train_cell_ids].obsm[\"X_pca_sqrt_norm\"],\n",
    "    adata_rna[train_cell_ids].obsm[\"X_raw_selected\"].toarray(),\n",
    "    adata_rna[train_cell_ids].obsm[\"X_lgbm_1\"],\n",
    "    adata_rna[train_cell_ids].obsm[\"X_lgbm_2\"],\n",
    "    adata_rna[train_cell_ids].obsm[\"X_lgbm_3\"],\n",
    "    adata_rna[train_cell_ids].obsm[\"X_lgbm_4\"],\n",
    "], axis=1)\n",
    "\n",
    "test_cite_X = np.concatenate([\n",
    "    adata_rna[test_cell_ids].obsm[\"X_clr_tsvd\"],\n",
    "    adata_rna[test_cell_ids].obsm[\"X_pca_sqrt_norm\"],\n",
    "    adata_rna[test_cell_ids].obsm[\"X_raw_selected\"].toarray(),\n",
    "    adata_rna[test_cell_ids].obsm[\"X_lgbm_1\"],\n",
    "    adata_rna[test_cell_ids].obsm[\"X_lgbm_2\"],\n",
    "    adata_rna[test_cell_ids].obsm[\"X_lgbm_3\"],\n",
    "    adata_rna[test_cell_ids].obsm[\"X_lgbm_4\"],\n",
    "], axis=1)\n",
    "\n",
    "train_cite_y = adata_prot[train_cell_ids].layers[\"dsb\"]"
   ]
  },
  {
   "cell_type": "code",
   "execution_count": 29,
   "id": "22b19e90",
   "metadata": {},
   "outputs": [
    {
     "name": "stdout",
     "output_type": "stream",
     "text": [
      "Total number of features: 360\n"
     ]
    }
   ],
   "source": [
    "print(\"Total number of features:\", train_cite_X.shape[1])"
   ]
  },
  {
   "cell_type": "markdown",
   "id": "04443c24",
   "metadata": {},
   "source": [
    "This function will perform cross-validated training and prediction, and return us aggregated prediction of two models:"
   ]
  },
  {
   "cell_type": "code",
   "execution_count": 30,
   "id": "b1801247",
   "metadata": {},
   "outputs": [
    {
     "name": "stdout",
     "output_type": "stream",
     "text": [
      "0\n"
     ]
    },
    {
     "data": {
      "text/html": [
       "<pre style=\"white-space:pre;overflow-x:auto;line-height:normal;font-family:Menlo,'DejaVu Sans Mono',consolas,'Courier New',monospace\"><span style=\"font-weight: bold\">Model: \"functional\"</span>\n",
       "</pre>\n"
      ],
      "text/plain": [
       "\u001b[1mModel: \"functional\"\u001b[0m\n"
      ]
     },
     "metadata": {},
     "output_type": "display_data"
    },
    {
     "data": {
      "text/html": [
       "<pre style=\"white-space:pre;overflow-x:auto;line-height:normal;font-family:Menlo,'DejaVu Sans Mono',consolas,'Courier New',monospace\">┏━━━━━━━━━━━━━━━━━━━━━┳━━━━━━━━━━━━━━━━━━━┳━━━━━━━━━━━━┳━━━━━━━━━━━━━━━━━━━┓\n",
       "┃<span style=\"font-weight: bold\"> Layer (type)        </span>┃<span style=\"font-weight: bold\"> Output Shape      </span>┃<span style=\"font-weight: bold\">    Param # </span>┃<span style=\"font-weight: bold\"> Connected to      </span>┃\n",
       "┡━━━━━━━━━━━━━━━━━━━━━╇━━━━━━━━━━━━━━━━━━━╇━━━━━━━━━━━━╇━━━━━━━━━━━━━━━━━━━┩\n",
       "│ input_layer         │ (<span style=\"color: #00d7ff; text-decoration-color: #00d7ff\">None</span>, <span style=\"color: #00af00; text-decoration-color: #00af00\">360</span>)       │          <span style=\"color: #00af00; text-decoration-color: #00af00\">0</span> │ -                 │\n",
       "│ (<span style=\"color: #0087ff; text-decoration-color: #0087ff\">InputLayer</span>)        │                   │            │                   │\n",
       "├─────────────────────┼───────────────────┼────────────┼───────────────────┤\n",
       "│ reshape (<span style=\"color: #0087ff; text-decoration-color: #0087ff\">Reshape</span>)   │ (<span style=\"color: #00d7ff; text-decoration-color: #00d7ff\">None</span>, <span style=\"color: #00af00; text-decoration-color: #00af00\">1</span>, <span style=\"color: #00af00; text-decoration-color: #00af00\">360</span>)    │          <span style=\"color: #00af00; text-decoration-color: #00af00\">0</span> │ input_layer[<span style=\"color: #00af00; text-decoration-color: #00af00\">0</span>][<span style=\"color: #00af00; text-decoration-color: #00af00\">0</span>] │\n",
       "├─────────────────────┼───────────────────┼────────────┼───────────────────┤\n",
       "│ bidirectional       │ (<span style=\"color: #00d7ff; text-decoration-color: #00d7ff\">None</span>, <span style=\"color: #00af00; text-decoration-color: #00af00\">3600</span>)      │ <span style=\"color: #00af00; text-decoration-color: #00af00\">23,349,600</span> │ reshape[<span style=\"color: #00af00; text-decoration-color: #00af00\">0</span>][<span style=\"color: #00af00; text-decoration-color: #00af00\">0</span>]     │\n",
       "│ (<span style=\"color: #0087ff; text-decoration-color: #0087ff\">Bidirectional</span>)     │                   │            │                   │\n",
       "├─────────────────────┼───────────────────┼────────────┼───────────────────┤\n",
       "│ gaussian_dropout    │ (<span style=\"color: #00d7ff; text-decoration-color: #00d7ff\">None</span>, <span style=\"color: #00af00; text-decoration-color: #00af00\">3600</span>)      │          <span style=\"color: #00af00; text-decoration-color: #00af00\">0</span> │ bidirectional[<span style=\"color: #00af00; text-decoration-color: #00af00\">0</span>]… │\n",
       "│ (<span style=\"color: #0087ff; text-decoration-color: #0087ff\">GaussianDropout</span>)   │                   │            │                   │\n",
       "├─────────────────────┼───────────────────┼────────────┼───────────────────┤\n",
       "│ dense (<span style=\"color: #0087ff; text-decoration-color: #0087ff\">Dense</span>)       │ (<span style=\"color: #00d7ff; text-decoration-color: #00d7ff\">None</span>, <span style=\"color: #00af00; text-decoration-color: #00af00\">1800</span>)      │  <span style=\"color: #00af00; text-decoration-color: #00af00\">6,481,800</span> │ gaussian_dropout… │\n",
       "├─────────────────────┼───────────────────┼────────────┼───────────────────┤\n",
       "│ gaussian_dropout_1  │ (<span style=\"color: #00d7ff; text-decoration-color: #00d7ff\">None</span>, <span style=\"color: #00af00; text-decoration-color: #00af00\">1800</span>)      │          <span style=\"color: #00af00; text-decoration-color: #00af00\">0</span> │ dense[<span style=\"color: #00af00; text-decoration-color: #00af00\">0</span>][<span style=\"color: #00af00; text-decoration-color: #00af00\">0</span>]       │\n",
       "│ (<span style=\"color: #0087ff; text-decoration-color: #0087ff\">GaussianDropout</span>)   │                   │            │                   │\n",
       "├─────────────────────┼───────────────────┼────────────┼───────────────────┤\n",
       "│ dense_1 (<span style=\"color: #0087ff; text-decoration-color: #0087ff\">Dense</span>)     │ (<span style=\"color: #00d7ff; text-decoration-color: #00d7ff\">None</span>, <span style=\"color: #00af00; text-decoration-color: #00af00\">1800</span>)      │  <span style=\"color: #00af00; text-decoration-color: #00af00\">3,241,800</span> │ gaussian_dropout… │\n",
       "├─────────────────────┼───────────────────┼────────────┼───────────────────┤\n",
       "│ gaussian_dropout_2  │ (<span style=\"color: #00d7ff; text-decoration-color: #00d7ff\">None</span>, <span style=\"color: #00af00; text-decoration-color: #00af00\">1800</span>)      │          <span style=\"color: #00af00; text-decoration-color: #00af00\">0</span> │ dense_1[<span style=\"color: #00af00; text-decoration-color: #00af00\">0</span>][<span style=\"color: #00af00; text-decoration-color: #00af00\">0</span>]     │\n",
       "│ (<span style=\"color: #0087ff; text-decoration-color: #0087ff\">GaussianDropout</span>)   │                   │            │                   │\n",
       "├─────────────────────┼───────────────────┼────────────┼───────────────────┤\n",
       "│ concatenate         │ (<span style=\"color: #00d7ff; text-decoration-color: #00d7ff\">None</span>, <span style=\"color: #00af00; text-decoration-color: #00af00\">7200</span>)      │          <span style=\"color: #00af00; text-decoration-color: #00af00\">0</span> │ gaussian_dropout… │\n",
       "│ (<span style=\"color: #0087ff; text-decoration-color: #0087ff\">Concatenate</span>)       │                   │            │ gaussian_dropout… │\n",
       "│                     │                   │            │ gaussian_dropout… │\n",
       "├─────────────────────┼───────────────────┼────────────┼───────────────────┤\n",
       "│ dense_2 (<span style=\"color: #0087ff; text-decoration-color: #0087ff\">Dense</span>)     │ (<span style=\"color: #00d7ff; text-decoration-color: #00d7ff\">None</span>, <span style=\"color: #00af00; text-decoration-color: #00af00\">134</span>)       │    <span style=\"color: #00af00; text-decoration-color: #00af00\">964,934</span> │ concatenate[<span style=\"color: #00af00; text-decoration-color: #00af00\">0</span>][<span style=\"color: #00af00; text-decoration-color: #00af00\">0</span>] │\n",
       "└─────────────────────┴───────────────────┴────────────┴───────────────────┘\n",
       "</pre>\n"
      ],
      "text/plain": [
       "┏━━━━━━━━━━━━━━━━━━━━━┳━━━━━━━━━━━━━━━━━━━┳━━━━━━━━━━━━┳━━━━━━━━━━━━━━━━━━━┓\n",
       "┃\u001b[1m \u001b[0m\u001b[1mLayer (type)       \u001b[0m\u001b[1m \u001b[0m┃\u001b[1m \u001b[0m\u001b[1mOutput Shape     \u001b[0m\u001b[1m \u001b[0m┃\u001b[1m \u001b[0m\u001b[1m   Param #\u001b[0m\u001b[1m \u001b[0m┃\u001b[1m \u001b[0m\u001b[1mConnected to     \u001b[0m\u001b[1m \u001b[0m┃\n",
       "┡━━━━━━━━━━━━━━━━━━━━━╇━━━━━━━━━━━━━━━━━━━╇━━━━━━━━━━━━╇━━━━━━━━━━━━━━━━━━━┩\n",
       "│ input_layer         │ (\u001b[38;5;45mNone\u001b[0m, \u001b[38;5;34m360\u001b[0m)       │          \u001b[38;5;34m0\u001b[0m │ -                 │\n",
       "│ (\u001b[38;5;33mInputLayer\u001b[0m)        │                   │            │                   │\n",
       "├─────────────────────┼───────────────────┼────────────┼───────────────────┤\n",
       "│ reshape (\u001b[38;5;33mReshape\u001b[0m)   │ (\u001b[38;5;45mNone\u001b[0m, \u001b[38;5;34m1\u001b[0m, \u001b[38;5;34m360\u001b[0m)    │          \u001b[38;5;34m0\u001b[0m │ input_layer[\u001b[38;5;34m0\u001b[0m][\u001b[38;5;34m0\u001b[0m] │\n",
       "├─────────────────────┼───────────────────┼────────────┼───────────────────┤\n",
       "│ bidirectional       │ (\u001b[38;5;45mNone\u001b[0m, \u001b[38;5;34m3600\u001b[0m)      │ \u001b[38;5;34m23,349,600\u001b[0m │ reshape[\u001b[38;5;34m0\u001b[0m][\u001b[38;5;34m0\u001b[0m]     │\n",
       "│ (\u001b[38;5;33mBidirectional\u001b[0m)     │                   │            │                   │\n",
       "├─────────────────────┼───────────────────┼────────────┼───────────────────┤\n",
       "│ gaussian_dropout    │ (\u001b[38;5;45mNone\u001b[0m, \u001b[38;5;34m3600\u001b[0m)      │          \u001b[38;5;34m0\u001b[0m │ bidirectional[\u001b[38;5;34m0\u001b[0m]… │\n",
       "│ (\u001b[38;5;33mGaussianDropout\u001b[0m)   │                   │            │                   │\n",
       "├─────────────────────┼───────────────────┼────────────┼───────────────────┤\n",
       "│ dense (\u001b[38;5;33mDense\u001b[0m)       │ (\u001b[38;5;45mNone\u001b[0m, \u001b[38;5;34m1800\u001b[0m)      │  \u001b[38;5;34m6,481,800\u001b[0m │ gaussian_dropout… │\n",
       "├─────────────────────┼───────────────────┼────────────┼───────────────────┤\n",
       "│ gaussian_dropout_1  │ (\u001b[38;5;45mNone\u001b[0m, \u001b[38;5;34m1800\u001b[0m)      │          \u001b[38;5;34m0\u001b[0m │ dense[\u001b[38;5;34m0\u001b[0m][\u001b[38;5;34m0\u001b[0m]       │\n",
       "│ (\u001b[38;5;33mGaussianDropout\u001b[0m)   │                   │            │                   │\n",
       "├─────────────────────┼───────────────────┼────────────┼───────────────────┤\n",
       "│ dense_1 (\u001b[38;5;33mDense\u001b[0m)     │ (\u001b[38;5;45mNone\u001b[0m, \u001b[38;5;34m1800\u001b[0m)      │  \u001b[38;5;34m3,241,800\u001b[0m │ gaussian_dropout… │\n",
       "├─────────────────────┼───────────────────┼────────────┼───────────────────┤\n",
       "│ gaussian_dropout_2  │ (\u001b[38;5;45mNone\u001b[0m, \u001b[38;5;34m1800\u001b[0m)      │          \u001b[38;5;34m0\u001b[0m │ dense_1[\u001b[38;5;34m0\u001b[0m][\u001b[38;5;34m0\u001b[0m]     │\n",
       "│ (\u001b[38;5;33mGaussianDropout\u001b[0m)   │                   │            │                   │\n",
       "├─────────────────────┼───────────────────┼────────────┼───────────────────┤\n",
       "│ concatenate         │ (\u001b[38;5;45mNone\u001b[0m, \u001b[38;5;34m7200\u001b[0m)      │          \u001b[38;5;34m0\u001b[0m │ gaussian_dropout… │\n",
       "│ (\u001b[38;5;33mConcatenate\u001b[0m)       │                   │            │ gaussian_dropout… │\n",
       "│                     │                   │            │ gaussian_dropout… │\n",
       "├─────────────────────┼───────────────────┼────────────┼───────────────────┤\n",
       "│ dense_2 (\u001b[38;5;33mDense\u001b[0m)     │ (\u001b[38;5;45mNone\u001b[0m, \u001b[38;5;34m134\u001b[0m)       │    \u001b[38;5;34m964,934\u001b[0m │ concatenate[\u001b[38;5;34m0\u001b[0m][\u001b[38;5;34m0\u001b[0m] │\n",
       "└─────────────────────┴───────────────────┴────────────┴───────────────────┘\n"
      ]
     },
     "metadata": {},
     "output_type": "display_data"
    },
    {
     "data": {
      "text/html": [
       "<pre style=\"white-space:pre;overflow-x:auto;line-height:normal;font-family:Menlo,'DejaVu Sans Mono',consolas,'Courier New',monospace\"><span style=\"font-weight: bold\"> Total params: </span><span style=\"color: #00af00; text-decoration-color: #00af00\">34,038,134</span> (129.85 MB)\n",
       "</pre>\n"
      ],
      "text/plain": [
       "\u001b[1m Total params: \u001b[0m\u001b[38;5;34m34,038,134\u001b[0m (129.85 MB)\n"
      ]
     },
     "metadata": {},
     "output_type": "display_data"
    },
    {
     "data": {
      "text/html": [
       "<pre style=\"white-space:pre;overflow-x:auto;line-height:normal;font-family:Menlo,'DejaVu Sans Mono',consolas,'Courier New',monospace\"><span style=\"font-weight: bold\"> Trainable params: </span><span style=\"color: #00af00; text-decoration-color: #00af00\">34,038,134</span> (129.85 MB)\n",
       "</pre>\n"
      ],
      "text/plain": [
       "\u001b[1m Trainable params: \u001b[0m\u001b[38;5;34m34,038,134\u001b[0m (129.85 MB)\n"
      ]
     },
     "metadata": {},
     "output_type": "display_data"
    },
    {
     "data": {
      "text/html": [
       "<pre style=\"white-space:pre;overflow-x:auto;line-height:normal;font-family:Menlo,'DejaVu Sans Mono',consolas,'Courier New',monospace\"><span style=\"font-weight: bold\"> Non-trainable params: </span><span style=\"color: #00af00; text-decoration-color: #00af00\">0</span> (0.00 B)\n",
       "</pre>\n"
      ],
      "text/plain": [
       "\u001b[1m Non-trainable params: \u001b[0m\u001b[38;5;34m0\u001b[0m (0.00 B)\n"
      ]
     },
     "metadata": {},
     "output_type": "display_data"
    },
    {
     "name": "stdout",
     "output_type": "stream",
     "text": [
      "Epoch 1/3\n",
      "\u001b[1m1/1\u001b[0m \u001b[32m━━━━━━━━━━━━━━━━━━━━\u001b[0m\u001b[37m\u001b[0m \u001b[1m0s\u001b[0m 4s/step - loss: 0.0000e+00"
     ]
    },
    {
     "name": "stderr",
     "output_type": "stream",
     "text": [
      "DEBUG:h5py._conv:Creating converter from 5 to 3\n"
     ]
    },
    {
     "name": "stdout",
     "output_type": "stream",
     "text": [
      "\u001b[1m1/1\u001b[0m \u001b[32m━━━━━━━━━━━━━━━━━━━━\u001b[0m\u001b[37m\u001b[0m \u001b[1m5s\u001b[0m 5s/step - loss: 0.0000e+00 - val_loss: -0.3448 - learning_rate: 0.0010\n",
      "Epoch 2/3\n",
      "\u001b[1m1/1\u001b[0m \u001b[32m━━━━━━━━━━━━━━━━━━━━\u001b[0m\u001b[37m\u001b[0m \u001b[1m0s\u001b[0m 204ms/step - loss: -0.5629 - val_loss: -0.1883 - learning_rate: 0.0010\n",
      "Epoch 3/3\n",
      "\u001b[1m1/1\u001b[0m \u001b[32m━━━━━━━━━━━━━━━━━━━━\u001b[0m\u001b[37m\u001b[0m \u001b[1m0s\u001b[0m 195ms/step - loss: -0.4221 - val_loss: -0.3197 - learning_rate: 0.0010\n",
      "\u001b[1m1/1\u001b[0m \u001b[32m━━━━━━━━━━━━━━━━━━━━\u001b[0m\u001b[37m\u001b[0m \u001b[1m0s\u001b[0m 313ms/step\n",
      "[np.float64(0.3448404183276398)]\n",
      "\u001b[1m1/1\u001b[0m \u001b[32m━━━━━━━━━━━━━━━━━━━━\u001b[0m\u001b[37m\u001b[0m \u001b[1m0s\u001b[0m 375ms/step\n",
      "1\n"
     ]
    },
    {
     "data": {
      "text/html": [
       "<pre style=\"white-space:pre;overflow-x:auto;line-height:normal;font-family:Menlo,'DejaVu Sans Mono',consolas,'Courier New',monospace\"><span style=\"font-weight: bold\">Model: \"functional\"</span>\n",
       "</pre>\n"
      ],
      "text/plain": [
       "\u001b[1mModel: \"functional\"\u001b[0m\n"
      ]
     },
     "metadata": {},
     "output_type": "display_data"
    },
    {
     "data": {
      "text/html": [
       "<pre style=\"white-space:pre;overflow-x:auto;line-height:normal;font-family:Menlo,'DejaVu Sans Mono',consolas,'Courier New',monospace\">┏━━━━━━━━━━━━━━━━━━━━━┳━━━━━━━━━━━━━━━━━━━┳━━━━━━━━━━━━┳━━━━━━━━━━━━━━━━━━━┓\n",
       "┃<span style=\"font-weight: bold\"> Layer (type)        </span>┃<span style=\"font-weight: bold\"> Output Shape      </span>┃<span style=\"font-weight: bold\">    Param # </span>┃<span style=\"font-weight: bold\"> Connected to      </span>┃\n",
       "┡━━━━━━━━━━━━━━━━━━━━━╇━━━━━━━━━━━━━━━━━━━╇━━━━━━━━━━━━╇━━━━━━━━━━━━━━━━━━━┩\n",
       "│ input_layer         │ (<span style=\"color: #00d7ff; text-decoration-color: #00d7ff\">None</span>, <span style=\"color: #00af00; text-decoration-color: #00af00\">360</span>)       │          <span style=\"color: #00af00; text-decoration-color: #00af00\">0</span> │ -                 │\n",
       "│ (<span style=\"color: #0087ff; text-decoration-color: #0087ff\">InputLayer</span>)        │                   │            │                   │\n",
       "├─────────────────────┼───────────────────┼────────────┼───────────────────┤\n",
       "│ reshape (<span style=\"color: #0087ff; text-decoration-color: #0087ff\">Reshape</span>)   │ (<span style=\"color: #00d7ff; text-decoration-color: #00d7ff\">None</span>, <span style=\"color: #00af00; text-decoration-color: #00af00\">1</span>, <span style=\"color: #00af00; text-decoration-color: #00af00\">360</span>)    │          <span style=\"color: #00af00; text-decoration-color: #00af00\">0</span> │ input_layer[<span style=\"color: #00af00; text-decoration-color: #00af00\">0</span>][<span style=\"color: #00af00; text-decoration-color: #00af00\">0</span>] │\n",
       "├─────────────────────┼───────────────────┼────────────┼───────────────────┤\n",
       "│ bidirectional       │ (<span style=\"color: #00d7ff; text-decoration-color: #00d7ff\">None</span>, <span style=\"color: #00af00; text-decoration-color: #00af00\">3600</span>)      │ <span style=\"color: #00af00; text-decoration-color: #00af00\">23,349,600</span> │ reshape[<span style=\"color: #00af00; text-decoration-color: #00af00\">0</span>][<span style=\"color: #00af00; text-decoration-color: #00af00\">0</span>]     │\n",
       "│ (<span style=\"color: #0087ff; text-decoration-color: #0087ff\">Bidirectional</span>)     │                   │            │                   │\n",
       "├─────────────────────┼───────────────────┼────────────┼───────────────────┤\n",
       "│ gaussian_dropout    │ (<span style=\"color: #00d7ff; text-decoration-color: #00d7ff\">None</span>, <span style=\"color: #00af00; text-decoration-color: #00af00\">3600</span>)      │          <span style=\"color: #00af00; text-decoration-color: #00af00\">0</span> │ bidirectional[<span style=\"color: #00af00; text-decoration-color: #00af00\">0</span>]… │\n",
       "│ (<span style=\"color: #0087ff; text-decoration-color: #0087ff\">GaussianDropout</span>)   │                   │            │                   │\n",
       "├─────────────────────┼───────────────────┼────────────┼───────────────────┤\n",
       "│ dense (<span style=\"color: #0087ff; text-decoration-color: #0087ff\">Dense</span>)       │ (<span style=\"color: #00d7ff; text-decoration-color: #00d7ff\">None</span>, <span style=\"color: #00af00; text-decoration-color: #00af00\">1800</span>)      │  <span style=\"color: #00af00; text-decoration-color: #00af00\">6,481,800</span> │ gaussian_dropout… │\n",
       "├─────────────────────┼───────────────────┼────────────┼───────────────────┤\n",
       "│ gaussian_dropout_1  │ (<span style=\"color: #00d7ff; text-decoration-color: #00d7ff\">None</span>, <span style=\"color: #00af00; text-decoration-color: #00af00\">1800</span>)      │          <span style=\"color: #00af00; text-decoration-color: #00af00\">0</span> │ dense[<span style=\"color: #00af00; text-decoration-color: #00af00\">0</span>][<span style=\"color: #00af00; text-decoration-color: #00af00\">0</span>]       │\n",
       "│ (<span style=\"color: #0087ff; text-decoration-color: #0087ff\">GaussianDropout</span>)   │                   │            │                   │\n",
       "├─────────────────────┼───────────────────┼────────────┼───────────────────┤\n",
       "│ dense_1 (<span style=\"color: #0087ff; text-decoration-color: #0087ff\">Dense</span>)     │ (<span style=\"color: #00d7ff; text-decoration-color: #00d7ff\">None</span>, <span style=\"color: #00af00; text-decoration-color: #00af00\">1800</span>)      │  <span style=\"color: #00af00; text-decoration-color: #00af00\">3,241,800</span> │ gaussian_dropout… │\n",
       "├─────────────────────┼───────────────────┼────────────┼───────────────────┤\n",
       "│ gaussian_dropout_2  │ (<span style=\"color: #00d7ff; text-decoration-color: #00d7ff\">None</span>, <span style=\"color: #00af00; text-decoration-color: #00af00\">1800</span>)      │          <span style=\"color: #00af00; text-decoration-color: #00af00\">0</span> │ dense_1[<span style=\"color: #00af00; text-decoration-color: #00af00\">0</span>][<span style=\"color: #00af00; text-decoration-color: #00af00\">0</span>]     │\n",
       "│ (<span style=\"color: #0087ff; text-decoration-color: #0087ff\">GaussianDropout</span>)   │                   │            │                   │\n",
       "├─────────────────────┼───────────────────┼────────────┼───────────────────┤\n",
       "│ concatenate         │ (<span style=\"color: #00d7ff; text-decoration-color: #00d7ff\">None</span>, <span style=\"color: #00af00; text-decoration-color: #00af00\">7200</span>)      │          <span style=\"color: #00af00; text-decoration-color: #00af00\">0</span> │ gaussian_dropout… │\n",
       "│ (<span style=\"color: #0087ff; text-decoration-color: #0087ff\">Concatenate</span>)       │                   │            │ gaussian_dropout… │\n",
       "│                     │                   │            │ gaussian_dropout… │\n",
       "├─────────────────────┼───────────────────┼────────────┼───────────────────┤\n",
       "│ dense_2 (<span style=\"color: #0087ff; text-decoration-color: #0087ff\">Dense</span>)     │ (<span style=\"color: #00d7ff; text-decoration-color: #00d7ff\">None</span>, <span style=\"color: #00af00; text-decoration-color: #00af00\">134</span>)       │    <span style=\"color: #00af00; text-decoration-color: #00af00\">964,934</span> │ concatenate[<span style=\"color: #00af00; text-decoration-color: #00af00\">0</span>][<span style=\"color: #00af00; text-decoration-color: #00af00\">0</span>] │\n",
       "└─────────────────────┴───────────────────┴────────────┴───────────────────┘\n",
       "</pre>\n"
      ],
      "text/plain": [
       "┏━━━━━━━━━━━━━━━━━━━━━┳━━━━━━━━━━━━━━━━━━━┳━━━━━━━━━━━━┳━━━━━━━━━━━━━━━━━━━┓\n",
       "┃\u001b[1m \u001b[0m\u001b[1mLayer (type)       \u001b[0m\u001b[1m \u001b[0m┃\u001b[1m \u001b[0m\u001b[1mOutput Shape     \u001b[0m\u001b[1m \u001b[0m┃\u001b[1m \u001b[0m\u001b[1m   Param #\u001b[0m\u001b[1m \u001b[0m┃\u001b[1m \u001b[0m\u001b[1mConnected to     \u001b[0m\u001b[1m \u001b[0m┃\n",
       "┡━━━━━━━━━━━━━━━━━━━━━╇━━━━━━━━━━━━━━━━━━━╇━━━━━━━━━━━━╇━━━━━━━━━━━━━━━━━━━┩\n",
       "│ input_layer         │ (\u001b[38;5;45mNone\u001b[0m, \u001b[38;5;34m360\u001b[0m)       │          \u001b[38;5;34m0\u001b[0m │ -                 │\n",
       "│ (\u001b[38;5;33mInputLayer\u001b[0m)        │                   │            │                   │\n",
       "├─────────────────────┼───────────────────┼────────────┼───────────────────┤\n",
       "│ reshape (\u001b[38;5;33mReshape\u001b[0m)   │ (\u001b[38;5;45mNone\u001b[0m, \u001b[38;5;34m1\u001b[0m, \u001b[38;5;34m360\u001b[0m)    │          \u001b[38;5;34m0\u001b[0m │ input_layer[\u001b[38;5;34m0\u001b[0m][\u001b[38;5;34m0\u001b[0m] │\n",
       "├─────────────────────┼───────────────────┼────────────┼───────────────────┤\n",
       "│ bidirectional       │ (\u001b[38;5;45mNone\u001b[0m, \u001b[38;5;34m3600\u001b[0m)      │ \u001b[38;5;34m23,349,600\u001b[0m │ reshape[\u001b[38;5;34m0\u001b[0m][\u001b[38;5;34m0\u001b[0m]     │\n",
       "│ (\u001b[38;5;33mBidirectional\u001b[0m)     │                   │            │                   │\n",
       "├─────────────────────┼───────────────────┼────────────┼───────────────────┤\n",
       "│ gaussian_dropout    │ (\u001b[38;5;45mNone\u001b[0m, \u001b[38;5;34m3600\u001b[0m)      │          \u001b[38;5;34m0\u001b[0m │ bidirectional[\u001b[38;5;34m0\u001b[0m]… │\n",
       "│ (\u001b[38;5;33mGaussianDropout\u001b[0m)   │                   │            │                   │\n",
       "├─────────────────────┼───────────────────┼────────────┼───────────────────┤\n",
       "│ dense (\u001b[38;5;33mDense\u001b[0m)       │ (\u001b[38;5;45mNone\u001b[0m, \u001b[38;5;34m1800\u001b[0m)      │  \u001b[38;5;34m6,481,800\u001b[0m │ gaussian_dropout… │\n",
       "├─────────────────────┼───────────────────┼────────────┼───────────────────┤\n",
       "│ gaussian_dropout_1  │ (\u001b[38;5;45mNone\u001b[0m, \u001b[38;5;34m1800\u001b[0m)      │          \u001b[38;5;34m0\u001b[0m │ dense[\u001b[38;5;34m0\u001b[0m][\u001b[38;5;34m0\u001b[0m]       │\n",
       "│ (\u001b[38;5;33mGaussianDropout\u001b[0m)   │                   │            │                   │\n",
       "├─────────────────────┼───────────────────┼────────────┼───────────────────┤\n",
       "│ dense_1 (\u001b[38;5;33mDense\u001b[0m)     │ (\u001b[38;5;45mNone\u001b[0m, \u001b[38;5;34m1800\u001b[0m)      │  \u001b[38;5;34m3,241,800\u001b[0m │ gaussian_dropout… │\n",
       "├─────────────────────┼───────────────────┼────────────┼───────────────────┤\n",
       "│ gaussian_dropout_2  │ (\u001b[38;5;45mNone\u001b[0m, \u001b[38;5;34m1800\u001b[0m)      │          \u001b[38;5;34m0\u001b[0m │ dense_1[\u001b[38;5;34m0\u001b[0m][\u001b[38;5;34m0\u001b[0m]     │\n",
       "│ (\u001b[38;5;33mGaussianDropout\u001b[0m)   │                   │            │                   │\n",
       "├─────────────────────┼───────────────────┼────────────┼───────────────────┤\n",
       "│ concatenate         │ (\u001b[38;5;45mNone\u001b[0m, \u001b[38;5;34m7200\u001b[0m)      │          \u001b[38;5;34m0\u001b[0m │ gaussian_dropout… │\n",
       "│ (\u001b[38;5;33mConcatenate\u001b[0m)       │                   │            │ gaussian_dropout… │\n",
       "│                     │                   │            │ gaussian_dropout… │\n",
       "├─────────────────────┼───────────────────┼────────────┼───────────────────┤\n",
       "│ dense_2 (\u001b[38;5;33mDense\u001b[0m)     │ (\u001b[38;5;45mNone\u001b[0m, \u001b[38;5;34m134\u001b[0m)       │    \u001b[38;5;34m964,934\u001b[0m │ concatenate[\u001b[38;5;34m0\u001b[0m][\u001b[38;5;34m0\u001b[0m] │\n",
       "└─────────────────────┴───────────────────┴────────────┴───────────────────┘\n"
      ]
     },
     "metadata": {},
     "output_type": "display_data"
    },
    {
     "data": {
      "text/html": [
       "<pre style=\"white-space:pre;overflow-x:auto;line-height:normal;font-family:Menlo,'DejaVu Sans Mono',consolas,'Courier New',monospace\"><span style=\"font-weight: bold\"> Total params: </span><span style=\"color: #00af00; text-decoration-color: #00af00\">34,038,134</span> (129.85 MB)\n",
       "</pre>\n"
      ],
      "text/plain": [
       "\u001b[1m Total params: \u001b[0m\u001b[38;5;34m34,038,134\u001b[0m (129.85 MB)\n"
      ]
     },
     "metadata": {},
     "output_type": "display_data"
    },
    {
     "data": {
      "text/html": [
       "<pre style=\"white-space:pre;overflow-x:auto;line-height:normal;font-family:Menlo,'DejaVu Sans Mono',consolas,'Courier New',monospace\"><span style=\"font-weight: bold\"> Trainable params: </span><span style=\"color: #00af00; text-decoration-color: #00af00\">34,038,134</span> (129.85 MB)\n",
       "</pre>\n"
      ],
      "text/plain": [
       "\u001b[1m Trainable params: \u001b[0m\u001b[38;5;34m34,038,134\u001b[0m (129.85 MB)\n"
      ]
     },
     "metadata": {},
     "output_type": "display_data"
    },
    {
     "data": {
      "text/html": [
       "<pre style=\"white-space:pre;overflow-x:auto;line-height:normal;font-family:Menlo,'DejaVu Sans Mono',consolas,'Courier New',monospace\"><span style=\"font-weight: bold\"> Non-trainable params: </span><span style=\"color: #00af00; text-decoration-color: #00af00\">0</span> (0.00 B)\n",
       "</pre>\n"
      ],
      "text/plain": [
       "\u001b[1m Non-trainable params: \u001b[0m\u001b[38;5;34m0\u001b[0m (0.00 B)\n"
      ]
     },
     "metadata": {},
     "output_type": "display_data"
    },
    {
     "name": "stdout",
     "output_type": "stream",
     "text": [
      "Epoch 1/3\n",
      "\u001b[1m1/1\u001b[0m \u001b[32m━━━━━━━━━━━━━━━━━━━━\u001b[0m\u001b[37m\u001b[0m \u001b[1m5s\u001b[0m 5s/step - loss: 0.0000e+00 - val_loss: -0.3524 - learning_rate: 0.0010\n",
      "Epoch 2/3\n",
      "\u001b[1m1/1\u001b[0m \u001b[32m━━━━━━━━━━━━━━━━━━━━\u001b[0m\u001b[37m\u001b[0m \u001b[1m0s\u001b[0m 181ms/step - loss: -0.5597 - val_loss: -0.1808 - learning_rate: 0.0010\n",
      "Epoch 3/3\n",
      "\u001b[1m1/1\u001b[0m \u001b[32m━━━━━━━━━━━━━━━━━━━━\u001b[0m\u001b[37m\u001b[0m \u001b[1m0s\u001b[0m 174ms/step - loss: -0.4227 - val_loss: -0.3290 - learning_rate: 0.0010\n",
      "\u001b[1m1/1\u001b[0m \u001b[32m━━━━━━━━━━━━━━━━━━━━\u001b[0m\u001b[37m\u001b[0m \u001b[1m0s\u001b[0m 277ms/step\n",
      "[np.float64(0.3448404183276398), np.float64(0.3524359526053535)]\n",
      "\u001b[1m1/1\u001b[0m \u001b[32m━━━━━━━━━━━━━━━━━━━━\u001b[0m\u001b[37m\u001b[0m \u001b[1m0s\u001b[0m 301ms/step\n",
      "Overall: 0.3486274269193613\n",
      "0\n"
     ]
    },
    {
     "data": {
      "text/html": [
       "<pre style=\"white-space:pre;overflow-x:auto;line-height:normal;font-family:Menlo,'DejaVu Sans Mono',consolas,'Courier New',monospace\"><span style=\"font-weight: bold\">Model: \"functional\"</span>\n",
       "</pre>\n"
      ],
      "text/plain": [
       "\u001b[1mModel: \"functional\"\u001b[0m\n"
      ]
     },
     "metadata": {},
     "output_type": "display_data"
    },
    {
     "data": {
      "text/html": [
       "<pre style=\"white-space:pre;overflow-x:auto;line-height:normal;font-family:Menlo,'DejaVu Sans Mono',consolas,'Courier New',monospace\">┏━━━━━━━━━━━━━━━━━━━━━━━━━━━━━━━━━┳━━━━━━━━━━━━━━━━━━━━━━━━┳━━━━━━━━━━━━━━━┓\n",
       "┃<span style=\"font-weight: bold\"> Layer (type)                    </span>┃<span style=\"font-weight: bold\"> Output Shape           </span>┃<span style=\"font-weight: bold\">       Param # </span>┃\n",
       "┡━━━━━━━━━━━━━━━━━━━━━━━━━━━━━━━━━╇━━━━━━━━━━━━━━━━━━━━━━━━╇━━━━━━━━━━━━━━━┩\n",
       "│ input_layer (<span style=\"color: #0087ff; text-decoration-color: #0087ff\">InputLayer</span>)        │ (<span style=\"color: #00d7ff; text-decoration-color: #00d7ff\">None</span>, <span style=\"color: #00af00; text-decoration-color: #00af00\">360</span>)            │             <span style=\"color: #00af00; text-decoration-color: #00af00\">0</span> │\n",
       "├─────────────────────────────────┼────────────────────────┼───────────────┤\n",
       "│ dense (<span style=\"color: #0087ff; text-decoration-color: #0087ff\">Dense</span>)                   │ (<span style=\"color: #00d7ff; text-decoration-color: #00d7ff\">None</span>, <span style=\"color: #00af00; text-decoration-color: #00af00\">1500</span>)           │       <span style=\"color: #00af00; text-decoration-color: #00af00\">541,500</span> │\n",
       "├─────────────────────────────────┼────────────────────────┼───────────────┤\n",
       "│ gaussian_dropout                │ (<span style=\"color: #00d7ff; text-decoration-color: #00d7ff\">None</span>, <span style=\"color: #00af00; text-decoration-color: #00af00\">1500</span>)           │             <span style=\"color: #00af00; text-decoration-color: #00af00\">0</span> │\n",
       "│ (<span style=\"color: #0087ff; text-decoration-color: #0087ff\">GaussianDropout</span>)               │                        │               │\n",
       "├─────────────────────────────────┼────────────────────────┼───────────────┤\n",
       "│ dense_1 (<span style=\"color: #0087ff; text-decoration-color: #0087ff\">Dense</span>)                 │ (<span style=\"color: #00d7ff; text-decoration-color: #00d7ff\">None</span>, <span style=\"color: #00af00; text-decoration-color: #00af00\">1500</span>)           │     <span style=\"color: #00af00; text-decoration-color: #00af00\">2,251,500</span> │\n",
       "├─────────────────────────────────┼────────────────────────┼───────────────┤\n",
       "│ gaussian_dropout_1              │ (<span style=\"color: #00d7ff; text-decoration-color: #00d7ff\">None</span>, <span style=\"color: #00af00; text-decoration-color: #00af00\">1500</span>)           │             <span style=\"color: #00af00; text-decoration-color: #00af00\">0</span> │\n",
       "│ (<span style=\"color: #0087ff; text-decoration-color: #0087ff\">GaussianDropout</span>)               │                        │               │\n",
       "├─────────────────────────────────┼────────────────────────┼───────────────┤\n",
       "│ dense_2 (<span style=\"color: #0087ff; text-decoration-color: #0087ff\">Dense</span>)                 │ (<span style=\"color: #00d7ff; text-decoration-color: #00d7ff\">None</span>, <span style=\"color: #00af00; text-decoration-color: #00af00\">1500</span>)           │     <span style=\"color: #00af00; text-decoration-color: #00af00\">2,251,500</span> │\n",
       "├─────────────────────────────────┼────────────────────────┼───────────────┤\n",
       "│ gaussian_dropout_2              │ (<span style=\"color: #00d7ff; text-decoration-color: #00d7ff\">None</span>, <span style=\"color: #00af00; text-decoration-color: #00af00\">1500</span>)           │             <span style=\"color: #00af00; text-decoration-color: #00af00\">0</span> │\n",
       "│ (<span style=\"color: #0087ff; text-decoration-color: #0087ff\">GaussianDropout</span>)               │                        │               │\n",
       "├─────────────────────────────────┼────────────────────────┼───────────────┤\n",
       "│ reshape (<span style=\"color: #0087ff; text-decoration-color: #0087ff\">Reshape</span>)               │ (<span style=\"color: #00d7ff; text-decoration-color: #00d7ff\">None</span>, <span style=\"color: #00af00; text-decoration-color: #00af00\">1</span>, <span style=\"color: #00af00; text-decoration-color: #00af00\">1500</span>)        │             <span style=\"color: #00af00; text-decoration-color: #00af00\">0</span> │\n",
       "├─────────────────────────────────┼────────────────────────┼───────────────┤\n",
       "│ bidirectional (<span style=\"color: #0087ff; text-decoration-color: #0087ff\">Bidirectional</span>)   │ (<span style=\"color: #00d7ff; text-decoration-color: #00d7ff\">None</span>, <span style=\"color: #00af00; text-decoration-color: #00af00\">1400</span>)           │     <span style=\"color: #00af00; text-decoration-color: #00af00\">9,248,400</span> │\n",
       "├─────────────────────────────────┼────────────────────────┼───────────────┤\n",
       "│ gaussian_dropout_3              │ (<span style=\"color: #00d7ff; text-decoration-color: #00d7ff\">None</span>, <span style=\"color: #00af00; text-decoration-color: #00af00\">1400</span>)           │             <span style=\"color: #00af00; text-decoration-color: #00af00\">0</span> │\n",
       "│ (<span style=\"color: #0087ff; text-decoration-color: #0087ff\">GaussianDropout</span>)               │                        │               │\n",
       "├─────────────────────────────────┼────────────────────────┼───────────────┤\n",
       "│ dense_3 (<span style=\"color: #0087ff; text-decoration-color: #0087ff\">Dense</span>)                 │ (<span style=\"color: #00d7ff; text-decoration-color: #00d7ff\">None</span>, <span style=\"color: #00af00; text-decoration-color: #00af00\">134</span>)            │       <span style=\"color: #00af00; text-decoration-color: #00af00\">187,734</span> │\n",
       "└─────────────────────────────────┴────────────────────────┴───────────────┘\n",
       "</pre>\n"
      ],
      "text/plain": [
       "┏━━━━━━━━━━━━━━━━━━━━━━━━━━━━━━━━━┳━━━━━━━━━━━━━━━━━━━━━━━━┳━━━━━━━━━━━━━━━┓\n",
       "┃\u001b[1m \u001b[0m\u001b[1mLayer (type)                   \u001b[0m\u001b[1m \u001b[0m┃\u001b[1m \u001b[0m\u001b[1mOutput Shape          \u001b[0m\u001b[1m \u001b[0m┃\u001b[1m \u001b[0m\u001b[1m      Param #\u001b[0m\u001b[1m \u001b[0m┃\n",
       "┡━━━━━━━━━━━━━━━━━━━━━━━━━━━━━━━━━╇━━━━━━━━━━━━━━━━━━━━━━━━╇━━━━━━━━━━━━━━━┩\n",
       "│ input_layer (\u001b[38;5;33mInputLayer\u001b[0m)        │ (\u001b[38;5;45mNone\u001b[0m, \u001b[38;5;34m360\u001b[0m)            │             \u001b[38;5;34m0\u001b[0m │\n",
       "├─────────────────────────────────┼────────────────────────┼───────────────┤\n",
       "│ dense (\u001b[38;5;33mDense\u001b[0m)                   │ (\u001b[38;5;45mNone\u001b[0m, \u001b[38;5;34m1500\u001b[0m)           │       \u001b[38;5;34m541,500\u001b[0m │\n",
       "├─────────────────────────────────┼────────────────────────┼───────────────┤\n",
       "│ gaussian_dropout                │ (\u001b[38;5;45mNone\u001b[0m, \u001b[38;5;34m1500\u001b[0m)           │             \u001b[38;5;34m0\u001b[0m │\n",
       "│ (\u001b[38;5;33mGaussianDropout\u001b[0m)               │                        │               │\n",
       "├─────────────────────────────────┼────────────────────────┼───────────────┤\n",
       "│ dense_1 (\u001b[38;5;33mDense\u001b[0m)                 │ (\u001b[38;5;45mNone\u001b[0m, \u001b[38;5;34m1500\u001b[0m)           │     \u001b[38;5;34m2,251,500\u001b[0m │\n",
       "├─────────────────────────────────┼────────────────────────┼───────────────┤\n",
       "│ gaussian_dropout_1              │ (\u001b[38;5;45mNone\u001b[0m, \u001b[38;5;34m1500\u001b[0m)           │             \u001b[38;5;34m0\u001b[0m │\n",
       "│ (\u001b[38;5;33mGaussianDropout\u001b[0m)               │                        │               │\n",
       "├─────────────────────────────────┼────────────────────────┼───────────────┤\n",
       "│ dense_2 (\u001b[38;5;33mDense\u001b[0m)                 │ (\u001b[38;5;45mNone\u001b[0m, \u001b[38;5;34m1500\u001b[0m)           │     \u001b[38;5;34m2,251,500\u001b[0m │\n",
       "├─────────────────────────────────┼────────────────────────┼───────────────┤\n",
       "│ gaussian_dropout_2              │ (\u001b[38;5;45mNone\u001b[0m, \u001b[38;5;34m1500\u001b[0m)           │             \u001b[38;5;34m0\u001b[0m │\n",
       "│ (\u001b[38;5;33mGaussianDropout\u001b[0m)               │                        │               │\n",
       "├─────────────────────────────────┼────────────────────────┼───────────────┤\n",
       "│ reshape (\u001b[38;5;33mReshape\u001b[0m)               │ (\u001b[38;5;45mNone\u001b[0m, \u001b[38;5;34m1\u001b[0m, \u001b[38;5;34m1500\u001b[0m)        │             \u001b[38;5;34m0\u001b[0m │\n",
       "├─────────────────────────────────┼────────────────────────┼───────────────┤\n",
       "│ bidirectional (\u001b[38;5;33mBidirectional\u001b[0m)   │ (\u001b[38;5;45mNone\u001b[0m, \u001b[38;5;34m1400\u001b[0m)           │     \u001b[38;5;34m9,248,400\u001b[0m │\n",
       "├─────────────────────────────────┼────────────────────────┼───────────────┤\n",
       "│ gaussian_dropout_3              │ (\u001b[38;5;45mNone\u001b[0m, \u001b[38;5;34m1400\u001b[0m)           │             \u001b[38;5;34m0\u001b[0m │\n",
       "│ (\u001b[38;5;33mGaussianDropout\u001b[0m)               │                        │               │\n",
       "├─────────────────────────────────┼────────────────────────┼───────────────┤\n",
       "│ dense_3 (\u001b[38;5;33mDense\u001b[0m)                 │ (\u001b[38;5;45mNone\u001b[0m, \u001b[38;5;34m134\u001b[0m)            │       \u001b[38;5;34m187,734\u001b[0m │\n",
       "└─────────────────────────────────┴────────────────────────┴───────────────┘\n"
      ]
     },
     "metadata": {},
     "output_type": "display_data"
    },
    {
     "data": {
      "text/html": [
       "<pre style=\"white-space:pre;overflow-x:auto;line-height:normal;font-family:Menlo,'DejaVu Sans Mono',consolas,'Courier New',monospace\"><span style=\"font-weight: bold\"> Total params: </span><span style=\"color: #00af00; text-decoration-color: #00af00\">14,480,634</span> (55.24 MB)\n",
       "</pre>\n"
      ],
      "text/plain": [
       "\u001b[1m Total params: \u001b[0m\u001b[38;5;34m14,480,634\u001b[0m (55.24 MB)\n"
      ]
     },
     "metadata": {},
     "output_type": "display_data"
    },
    {
     "data": {
      "text/html": [
       "<pre style=\"white-space:pre;overflow-x:auto;line-height:normal;font-family:Menlo,'DejaVu Sans Mono',consolas,'Courier New',monospace\"><span style=\"font-weight: bold\"> Trainable params: </span><span style=\"color: #00af00; text-decoration-color: #00af00\">14,480,634</span> (55.24 MB)\n",
       "</pre>\n"
      ],
      "text/plain": [
       "\u001b[1m Trainable params: \u001b[0m\u001b[38;5;34m14,480,634\u001b[0m (55.24 MB)\n"
      ]
     },
     "metadata": {},
     "output_type": "display_data"
    },
    {
     "data": {
      "text/html": [
       "<pre style=\"white-space:pre;overflow-x:auto;line-height:normal;font-family:Menlo,'DejaVu Sans Mono',consolas,'Courier New',monospace\"><span style=\"font-weight: bold\"> Non-trainable params: </span><span style=\"color: #00af00; text-decoration-color: #00af00\">0</span> (0.00 B)\n",
       "</pre>\n"
      ],
      "text/plain": [
       "\u001b[1m Non-trainable params: \u001b[0m\u001b[38;5;34m0\u001b[0m (0.00 B)\n"
      ]
     },
     "metadata": {},
     "output_type": "display_data"
    },
    {
     "name": "stdout",
     "output_type": "stream",
     "text": [
      "Epoch 1/3\n",
      "\u001b[1m1/1\u001b[0m \u001b[32m━━━━━━━━━━━━━━━━━━━━\u001b[0m\u001b[37m\u001b[0m \u001b[1m0s\u001b[0m 4s/step - loss: 1.0430WARNING:tensorflow:5 out of the last 13 calls to <function TensorFlowTrainer._make_function.<locals>.multi_step_on_iterator at 0x31c586fc0> triggered tf.function retracing. Tracing is expensive and the excessive number of tracings could be due to (1) creating @tf.function repeatedly in a loop, (2) passing tensors with different shapes, (3) passing Python objects instead of tensors. For (1), please define your @tf.function outside of the loop. For (2), @tf.function has reduce_retracing=True option that can avoid unnecessary retracing. For (3), please refer to https://www.tensorflow.org/guide/function#controlling_retracing and https://www.tensorflow.org/api_docs/python/tf/function for  more details.\n"
     ]
    },
    {
     "name": "stderr",
     "output_type": "stream",
     "text": [
      "WARNING:tensorflow:5 out of the last 13 calls to <function TensorFlowTrainer._make_function.<locals>.multi_step_on_iterator at 0x31c586fc0> triggered tf.function retracing. Tracing is expensive and the excessive number of tracings could be due to (1) creating @tf.function repeatedly in a loop, (2) passing tensors with different shapes, (3) passing Python objects instead of tensors. For (1), please define your @tf.function outside of the loop. For (2), @tf.function has reduce_retracing=True option that can avoid unnecessary retracing. For (3), please refer to https://www.tensorflow.org/guide/function#controlling_retracing and https://www.tensorflow.org/api_docs/python/tf/function for  more details.\n"
     ]
    },
    {
     "name": "stdout",
     "output_type": "stream",
     "text": [
      "\u001b[1m1/1\u001b[0m \u001b[32m━━━━━━━━━━━━━━━━━━━━\u001b[0m\u001b[37m\u001b[0m \u001b[1m5s\u001b[0m 5s/step - loss: 1.0430 - val_loss: 0.9531 - learning_rate: 5.0000e-04\n",
      "Epoch 2/3\n",
      "\u001b[1m1/1\u001b[0m \u001b[32m━━━━━━━━━━━━━━━━━━━━\u001b[0m\u001b[37m\u001b[0m \u001b[1m0s\u001b[0m 493ms/step - loss: 0.9554 - val_loss: 0.9331 - learning_rate: 5.0000e-04\n",
      "Epoch 3/3\n",
      "\u001b[1m1/1\u001b[0m \u001b[32m━━━━━━━━━━━━━━━━━━━━\u001b[0m\u001b[37m\u001b[0m \u001b[1m0s\u001b[0m 134ms/step - loss: 0.8933 - val_loss: 0.9506 - learning_rate: 5.0000e-04\n",
      "WARNING:tensorflow:5 out of the last 5 calls to <function TensorFlowTrainer.make_predict_function.<locals>.one_step_on_data_distributed at 0x31c5871a0> triggered tf.function retracing. Tracing is expensive and the excessive number of tracings could be due to (1) creating @tf.function repeatedly in a loop, (2) passing tensors with different shapes, (3) passing Python objects instead of tensors. For (1), please define your @tf.function outside of the loop. For (2), @tf.function has reduce_retracing=True option that can avoid unnecessary retracing. For (3), please refer to https://www.tensorflow.org/guide/function#controlling_retracing and https://www.tensorflow.org/api_docs/python/tf/function for  more details.\n"
     ]
    },
    {
     "name": "stderr",
     "output_type": "stream",
     "text": [
      "WARNING:tensorflow:5 out of the last 5 calls to <function TensorFlowTrainer.make_predict_function.<locals>.one_step_on_data_distributed at 0x31c5871a0> triggered tf.function retracing. Tracing is expensive and the excessive number of tracings could be due to (1) creating @tf.function repeatedly in a loop, (2) passing tensors with different shapes, (3) passing Python objects instead of tensors. For (1), please define your @tf.function outside of the loop. For (2), @tf.function has reduce_retracing=True option that can avoid unnecessary retracing. For (3), please refer to https://www.tensorflow.org/guide/function#controlling_retracing and https://www.tensorflow.org/api_docs/python/tf/function for  more details.\n"
     ]
    },
    {
     "name": "stdout",
     "output_type": "stream",
     "text": [
      "\u001b[1m1/1\u001b[0m \u001b[32m━━━━━━━━━━━━━━━━━━━━\u001b[0m\u001b[37m\u001b[0m \u001b[1m0s\u001b[0m 365ms/step\n",
      "[np.float64(0.29387561220797964)]\n",
      "WARNING:tensorflow:6 out of the last 6 calls to <function TensorFlowTrainer.make_predict_function.<locals>.one_step_on_data_distributed at 0x31c5871a0> triggered tf.function retracing. Tracing is expensive and the excessive number of tracings could be due to (1) creating @tf.function repeatedly in a loop, (2) passing tensors with different shapes, (3) passing Python objects instead of tensors. For (1), please define your @tf.function outside of the loop. For (2), @tf.function has reduce_retracing=True option that can avoid unnecessary retracing. For (3), please refer to https://www.tensorflow.org/guide/function#controlling_retracing and https://www.tensorflow.org/api_docs/python/tf/function for  more details.\n"
     ]
    },
    {
     "name": "stderr",
     "output_type": "stream",
     "text": [
      "WARNING:tensorflow:6 out of the last 6 calls to <function TensorFlowTrainer.make_predict_function.<locals>.one_step_on_data_distributed at 0x31c5871a0> triggered tf.function retracing. Tracing is expensive and the excessive number of tracings could be due to (1) creating @tf.function repeatedly in a loop, (2) passing tensors with different shapes, (3) passing Python objects instead of tensors. For (1), please define your @tf.function outside of the loop. For (2), @tf.function has reduce_retracing=True option that can avoid unnecessary retracing. For (3), please refer to https://www.tensorflow.org/guide/function#controlling_retracing and https://www.tensorflow.org/api_docs/python/tf/function for  more details.\n"
     ]
    },
    {
     "name": "stdout",
     "output_type": "stream",
     "text": [
      "\u001b[1m1/1\u001b[0m \u001b[32m━━━━━━━━━━━━━━━━━━━━\u001b[0m\u001b[37m\u001b[0m \u001b[1m0s\u001b[0m 352ms/step\n",
      "1\n"
     ]
    },
    {
     "data": {
      "text/html": [
       "<pre style=\"white-space:pre;overflow-x:auto;line-height:normal;font-family:Menlo,'DejaVu Sans Mono',consolas,'Courier New',monospace\"><span style=\"font-weight: bold\">Model: \"functional\"</span>\n",
       "</pre>\n"
      ],
      "text/plain": [
       "\u001b[1mModel: \"functional\"\u001b[0m\n"
      ]
     },
     "metadata": {},
     "output_type": "display_data"
    },
    {
     "data": {
      "text/html": [
       "<pre style=\"white-space:pre;overflow-x:auto;line-height:normal;font-family:Menlo,'DejaVu Sans Mono',consolas,'Courier New',monospace\">┏━━━━━━━━━━━━━━━━━━━━━━━━━━━━━━━━━┳━━━━━━━━━━━━━━━━━━━━━━━━┳━━━━━━━━━━━━━━━┓\n",
       "┃<span style=\"font-weight: bold\"> Layer (type)                    </span>┃<span style=\"font-weight: bold\"> Output Shape           </span>┃<span style=\"font-weight: bold\">       Param # </span>┃\n",
       "┡━━━━━━━━━━━━━━━━━━━━━━━━━━━━━━━━━╇━━━━━━━━━━━━━━━━━━━━━━━━╇━━━━━━━━━━━━━━━┩\n",
       "│ input_layer (<span style=\"color: #0087ff; text-decoration-color: #0087ff\">InputLayer</span>)        │ (<span style=\"color: #00d7ff; text-decoration-color: #00d7ff\">None</span>, <span style=\"color: #00af00; text-decoration-color: #00af00\">360</span>)            │             <span style=\"color: #00af00; text-decoration-color: #00af00\">0</span> │\n",
       "├─────────────────────────────────┼────────────────────────┼───────────────┤\n",
       "│ dense (<span style=\"color: #0087ff; text-decoration-color: #0087ff\">Dense</span>)                   │ (<span style=\"color: #00d7ff; text-decoration-color: #00d7ff\">None</span>, <span style=\"color: #00af00; text-decoration-color: #00af00\">1500</span>)           │       <span style=\"color: #00af00; text-decoration-color: #00af00\">541,500</span> │\n",
       "├─────────────────────────────────┼────────────────────────┼───────────────┤\n",
       "│ gaussian_dropout                │ (<span style=\"color: #00d7ff; text-decoration-color: #00d7ff\">None</span>, <span style=\"color: #00af00; text-decoration-color: #00af00\">1500</span>)           │             <span style=\"color: #00af00; text-decoration-color: #00af00\">0</span> │\n",
       "│ (<span style=\"color: #0087ff; text-decoration-color: #0087ff\">GaussianDropout</span>)               │                        │               │\n",
       "├─────────────────────────────────┼────────────────────────┼───────────────┤\n",
       "│ dense_1 (<span style=\"color: #0087ff; text-decoration-color: #0087ff\">Dense</span>)                 │ (<span style=\"color: #00d7ff; text-decoration-color: #00d7ff\">None</span>, <span style=\"color: #00af00; text-decoration-color: #00af00\">1500</span>)           │     <span style=\"color: #00af00; text-decoration-color: #00af00\">2,251,500</span> │\n",
       "├─────────────────────────────────┼────────────────────────┼───────────────┤\n",
       "│ gaussian_dropout_1              │ (<span style=\"color: #00d7ff; text-decoration-color: #00d7ff\">None</span>, <span style=\"color: #00af00; text-decoration-color: #00af00\">1500</span>)           │             <span style=\"color: #00af00; text-decoration-color: #00af00\">0</span> │\n",
       "│ (<span style=\"color: #0087ff; text-decoration-color: #0087ff\">GaussianDropout</span>)               │                        │               │\n",
       "├─────────────────────────────────┼────────────────────────┼───────────────┤\n",
       "│ dense_2 (<span style=\"color: #0087ff; text-decoration-color: #0087ff\">Dense</span>)                 │ (<span style=\"color: #00d7ff; text-decoration-color: #00d7ff\">None</span>, <span style=\"color: #00af00; text-decoration-color: #00af00\">1500</span>)           │     <span style=\"color: #00af00; text-decoration-color: #00af00\">2,251,500</span> │\n",
       "├─────────────────────────────────┼────────────────────────┼───────────────┤\n",
       "│ gaussian_dropout_2              │ (<span style=\"color: #00d7ff; text-decoration-color: #00d7ff\">None</span>, <span style=\"color: #00af00; text-decoration-color: #00af00\">1500</span>)           │             <span style=\"color: #00af00; text-decoration-color: #00af00\">0</span> │\n",
       "│ (<span style=\"color: #0087ff; text-decoration-color: #0087ff\">GaussianDropout</span>)               │                        │               │\n",
       "├─────────────────────────────────┼────────────────────────┼───────────────┤\n",
       "│ reshape (<span style=\"color: #0087ff; text-decoration-color: #0087ff\">Reshape</span>)               │ (<span style=\"color: #00d7ff; text-decoration-color: #00d7ff\">None</span>, <span style=\"color: #00af00; text-decoration-color: #00af00\">1</span>, <span style=\"color: #00af00; text-decoration-color: #00af00\">1500</span>)        │             <span style=\"color: #00af00; text-decoration-color: #00af00\">0</span> │\n",
       "├─────────────────────────────────┼────────────────────────┼───────────────┤\n",
       "│ bidirectional (<span style=\"color: #0087ff; text-decoration-color: #0087ff\">Bidirectional</span>)   │ (<span style=\"color: #00d7ff; text-decoration-color: #00d7ff\">None</span>, <span style=\"color: #00af00; text-decoration-color: #00af00\">1400</span>)           │     <span style=\"color: #00af00; text-decoration-color: #00af00\">9,248,400</span> │\n",
       "├─────────────────────────────────┼────────────────────────┼───────────────┤\n",
       "│ gaussian_dropout_3              │ (<span style=\"color: #00d7ff; text-decoration-color: #00d7ff\">None</span>, <span style=\"color: #00af00; text-decoration-color: #00af00\">1400</span>)           │             <span style=\"color: #00af00; text-decoration-color: #00af00\">0</span> │\n",
       "│ (<span style=\"color: #0087ff; text-decoration-color: #0087ff\">GaussianDropout</span>)               │                        │               │\n",
       "├─────────────────────────────────┼────────────────────────┼───────────────┤\n",
       "│ dense_3 (<span style=\"color: #0087ff; text-decoration-color: #0087ff\">Dense</span>)                 │ (<span style=\"color: #00d7ff; text-decoration-color: #00d7ff\">None</span>, <span style=\"color: #00af00; text-decoration-color: #00af00\">134</span>)            │       <span style=\"color: #00af00; text-decoration-color: #00af00\">187,734</span> │\n",
       "└─────────────────────────────────┴────────────────────────┴───────────────┘\n",
       "</pre>\n"
      ],
      "text/plain": [
       "┏━━━━━━━━━━━━━━━━━━━━━━━━━━━━━━━━━┳━━━━━━━━━━━━━━━━━━━━━━━━┳━━━━━━━━━━━━━━━┓\n",
       "┃\u001b[1m \u001b[0m\u001b[1mLayer (type)                   \u001b[0m\u001b[1m \u001b[0m┃\u001b[1m \u001b[0m\u001b[1mOutput Shape          \u001b[0m\u001b[1m \u001b[0m┃\u001b[1m \u001b[0m\u001b[1m      Param #\u001b[0m\u001b[1m \u001b[0m┃\n",
       "┡━━━━━━━━━━━━━━━━━━━━━━━━━━━━━━━━━╇━━━━━━━━━━━━━━━━━━━━━━━━╇━━━━━━━━━━━━━━━┩\n",
       "│ input_layer (\u001b[38;5;33mInputLayer\u001b[0m)        │ (\u001b[38;5;45mNone\u001b[0m, \u001b[38;5;34m360\u001b[0m)            │             \u001b[38;5;34m0\u001b[0m │\n",
       "├─────────────────────────────────┼────────────────────────┼───────────────┤\n",
       "│ dense (\u001b[38;5;33mDense\u001b[0m)                   │ (\u001b[38;5;45mNone\u001b[0m, \u001b[38;5;34m1500\u001b[0m)           │       \u001b[38;5;34m541,500\u001b[0m │\n",
       "├─────────────────────────────────┼────────────────────────┼───────────────┤\n",
       "│ gaussian_dropout                │ (\u001b[38;5;45mNone\u001b[0m, \u001b[38;5;34m1500\u001b[0m)           │             \u001b[38;5;34m0\u001b[0m │\n",
       "│ (\u001b[38;5;33mGaussianDropout\u001b[0m)               │                        │               │\n",
       "├─────────────────────────────────┼────────────────────────┼───────────────┤\n",
       "│ dense_1 (\u001b[38;5;33mDense\u001b[0m)                 │ (\u001b[38;5;45mNone\u001b[0m, \u001b[38;5;34m1500\u001b[0m)           │     \u001b[38;5;34m2,251,500\u001b[0m │\n",
       "├─────────────────────────────────┼────────────────────────┼───────────────┤\n",
       "│ gaussian_dropout_1              │ (\u001b[38;5;45mNone\u001b[0m, \u001b[38;5;34m1500\u001b[0m)           │             \u001b[38;5;34m0\u001b[0m │\n",
       "│ (\u001b[38;5;33mGaussianDropout\u001b[0m)               │                        │               │\n",
       "├─────────────────────────────────┼────────────────────────┼───────────────┤\n",
       "│ dense_2 (\u001b[38;5;33mDense\u001b[0m)                 │ (\u001b[38;5;45mNone\u001b[0m, \u001b[38;5;34m1500\u001b[0m)           │     \u001b[38;5;34m2,251,500\u001b[0m │\n",
       "├─────────────────────────────────┼────────────────────────┼───────────────┤\n",
       "│ gaussian_dropout_2              │ (\u001b[38;5;45mNone\u001b[0m, \u001b[38;5;34m1500\u001b[0m)           │             \u001b[38;5;34m0\u001b[0m │\n",
       "│ (\u001b[38;5;33mGaussianDropout\u001b[0m)               │                        │               │\n",
       "├─────────────────────────────────┼────────────────────────┼───────────────┤\n",
       "│ reshape (\u001b[38;5;33mReshape\u001b[0m)               │ (\u001b[38;5;45mNone\u001b[0m, \u001b[38;5;34m1\u001b[0m, \u001b[38;5;34m1500\u001b[0m)        │             \u001b[38;5;34m0\u001b[0m │\n",
       "├─────────────────────────────────┼────────────────────────┼───────────────┤\n",
       "│ bidirectional (\u001b[38;5;33mBidirectional\u001b[0m)   │ (\u001b[38;5;45mNone\u001b[0m, \u001b[38;5;34m1400\u001b[0m)           │     \u001b[38;5;34m9,248,400\u001b[0m │\n",
       "├─────────────────────────────────┼────────────────────────┼───────────────┤\n",
       "│ gaussian_dropout_3              │ (\u001b[38;5;45mNone\u001b[0m, \u001b[38;5;34m1400\u001b[0m)           │             \u001b[38;5;34m0\u001b[0m │\n",
       "│ (\u001b[38;5;33mGaussianDropout\u001b[0m)               │                        │               │\n",
       "├─────────────────────────────────┼────────────────────────┼───────────────┤\n",
       "│ dense_3 (\u001b[38;5;33mDense\u001b[0m)                 │ (\u001b[38;5;45mNone\u001b[0m, \u001b[38;5;34m134\u001b[0m)            │       \u001b[38;5;34m187,734\u001b[0m │\n",
       "└─────────────────────────────────┴────────────────────────┴───────────────┘\n"
      ]
     },
     "metadata": {},
     "output_type": "display_data"
    },
    {
     "data": {
      "text/html": [
       "<pre style=\"white-space:pre;overflow-x:auto;line-height:normal;font-family:Menlo,'DejaVu Sans Mono',consolas,'Courier New',monospace\"><span style=\"font-weight: bold\"> Total params: </span><span style=\"color: #00af00; text-decoration-color: #00af00\">14,480,634</span> (55.24 MB)\n",
       "</pre>\n"
      ],
      "text/plain": [
       "\u001b[1m Total params: \u001b[0m\u001b[38;5;34m14,480,634\u001b[0m (55.24 MB)\n"
      ]
     },
     "metadata": {},
     "output_type": "display_data"
    },
    {
     "data": {
      "text/html": [
       "<pre style=\"white-space:pre;overflow-x:auto;line-height:normal;font-family:Menlo,'DejaVu Sans Mono',consolas,'Courier New',monospace\"><span style=\"font-weight: bold\"> Trainable params: </span><span style=\"color: #00af00; text-decoration-color: #00af00\">14,480,634</span> (55.24 MB)\n",
       "</pre>\n"
      ],
      "text/plain": [
       "\u001b[1m Trainable params: \u001b[0m\u001b[38;5;34m14,480,634\u001b[0m (55.24 MB)\n"
      ]
     },
     "metadata": {},
     "output_type": "display_data"
    },
    {
     "data": {
      "text/html": [
       "<pre style=\"white-space:pre;overflow-x:auto;line-height:normal;font-family:Menlo,'DejaVu Sans Mono',consolas,'Courier New',monospace\"><span style=\"font-weight: bold\"> Non-trainable params: </span><span style=\"color: #00af00; text-decoration-color: #00af00\">0</span> (0.00 B)\n",
       "</pre>\n"
      ],
      "text/plain": [
       "\u001b[1m Non-trainable params: \u001b[0m\u001b[38;5;34m0\u001b[0m (0.00 B)\n"
      ]
     },
     "metadata": {},
     "output_type": "display_data"
    },
    {
     "name": "stdout",
     "output_type": "stream",
     "text": [
      "Epoch 1/3\n",
      "\u001b[1m1/1\u001b[0m \u001b[32m━━━━━━━━━━━━━━━━━━━━\u001b[0m\u001b[37m\u001b[0m \u001b[1m0s\u001b[0m 4s/step - loss: 1.0392WARNING:tensorflow:5 out of the last 13 calls to <function TensorFlowTrainer._make_function.<locals>.multi_step_on_iterator at 0x301cfe660> triggered tf.function retracing. Tracing is expensive and the excessive number of tracings could be due to (1) creating @tf.function repeatedly in a loop, (2) passing tensors with different shapes, (3) passing Python objects instead of tensors. For (1), please define your @tf.function outside of the loop. For (2), @tf.function has reduce_retracing=True option that can avoid unnecessary retracing. For (3), please refer to https://www.tensorflow.org/guide/function#controlling_retracing and https://www.tensorflow.org/api_docs/python/tf/function for  more details.\n"
     ]
    },
    {
     "name": "stderr",
     "output_type": "stream",
     "text": [
      "WARNING:tensorflow:5 out of the last 13 calls to <function TensorFlowTrainer._make_function.<locals>.multi_step_on_iterator at 0x301cfe660> triggered tf.function retracing. Tracing is expensive and the excessive number of tracings could be due to (1) creating @tf.function repeatedly in a loop, (2) passing tensors with different shapes, (3) passing Python objects instead of tensors. For (1), please define your @tf.function outside of the loop. For (2), @tf.function has reduce_retracing=True option that can avoid unnecessary retracing. For (3), please refer to https://www.tensorflow.org/guide/function#controlling_retracing and https://www.tensorflow.org/api_docs/python/tf/function for  more details.\n"
     ]
    },
    {
     "name": "stdout",
     "output_type": "stream",
     "text": [
      "\u001b[1m1/1\u001b[0m \u001b[32m━━━━━━━━━━━━━━━━━━━━\u001b[0m\u001b[37m\u001b[0m \u001b[1m4s\u001b[0m 4s/step - loss: 1.0392 - val_loss: 0.9713 - learning_rate: 5.0000e-04\n",
      "Epoch 2/3\n",
      "\u001b[1m1/1\u001b[0m \u001b[32m━━━━━━━━━━━━━━━━━━━━\u001b[0m\u001b[37m\u001b[0m \u001b[1m0s\u001b[0m 356ms/step - loss: 0.9267 - val_loss: 0.9339 - learning_rate: 5.0000e-04\n",
      "Epoch 3/3\n",
      "\u001b[1m1/1\u001b[0m \u001b[32m━━━━━━━━━━━━━━━━━━━━\u001b[0m\u001b[37m\u001b[0m \u001b[1m0s\u001b[0m 350ms/step - loss: 0.8717 - val_loss: 0.9072 - learning_rate: 5.0000e-04\n",
      "\u001b[1m1/1\u001b[0m \u001b[32m━━━━━━━━━━━━━━━━━━━━\u001b[0m\u001b[37m\u001b[0m \u001b[1m0s\u001b[0m 307ms/step\n",
      "[np.float64(0.29387561220797964), np.float64(0.31625227695276403)]\n",
      "\u001b[1m1/1\u001b[0m \u001b[32m━━━━━━━━━━━━━━━━━━━━\u001b[0m\u001b[37m\u001b[0m \u001b[1m0s\u001b[0m 306ms/step\n",
      "Overall: 0.30503224958781566\n",
      "Blend: 0.33954614007112444\n"
     ]
    }
   ],
   "source": [
    "train_preds, test_preds = train_nn_models(\n",
    "    train_cell_ids,\n",
    "    train_cite_X,\n",
    "    train_cite_y,\n",
    "    test_cell_ids,\n",
    "    test_cite_X,\n",
    "    folds, \n",
    "    EPOCHS=3\n",
    ")"
   ]
  },
  {
   "cell_type": "markdown",
   "id": "fe2f7c39",
   "metadata": {},
   "source": [
    "Because for this dataset we know the ground truth, we can compute the correlation score for test data:"
   ]
  },
  {
   "cell_type": "code",
   "execution_count": 31,
   "id": "e27b1674",
   "metadata": {},
   "outputs": [],
   "source": [
    "from senkin_tmp_cite_pred.metrics import correlation_score"
   ]
  },
  {
   "cell_type": "code",
   "execution_count": 33,
   "id": "b84b9121",
   "metadata": {},
   "outputs": [
    {
     "data": {
      "text/plain": [
       "np.float64(0.25758923033475933)"
      ]
     },
     "execution_count": 33,
     "metadata": {},
     "output_type": "execute_result"
    }
   ],
   "source": [
    "correlation_score(adata_prot[test_cell_ids].layers[\"dsb\"], test_preds)"
   ]
  }
 ],
 "metadata": {
  "kernelspec": {
   "display_name": "2025_08_citeseqpred",
   "language": "python",
   "name": "python3"
  },
  "language_info": {
   "codemirror_mode": {
    "name": "ipython",
    "version": 3
   },
   "file_extension": ".py",
   "mimetype": "text/x-python",
   "name": "python",
   "nbconvert_exporter": "python",
   "pygments_lexer": "ipython3",
   "version": "3.13.5"
  }
 },
 "nbformat": 4,
 "nbformat_minor": 5
}
